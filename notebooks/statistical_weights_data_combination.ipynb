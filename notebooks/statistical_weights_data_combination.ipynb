{
 "cells": [
  {
   "cell_type": "code",
   "execution_count": 1,
   "id": "712d9fd5-4eac-4656-aafd-45993b605143",
   "metadata": {},
   "outputs": [],
   "source": [
    "from casatasks import *\n",
    "# from casatools import *\n",
    "import casatools\n",
    "import os\n",
    "\n",
    "from casaplotms import plotms\n",
    "from casaviewer.imview import imview\n",
    "import glob\n",
    "import pandas as pd\n",
    "from tqdm import tqdm\n",
    "msmd = casatools.msmetadata()\n",
    "ms = casatools.ms()\n",
    "tb = casatools.table()\n",
    "import matplotlib as mpl\n",
    "import matplotlib.pyplot as plt\n",
    "import numpy as np\n",
    "def reset_rc_params():\n",
    "    mpl.rcParams.update({'font.size': 14, \n",
    "        'mathtext.fontset': 'stix',\n",
    "        \"text.usetex\": False,\n",
    "        \"font.family\": \"sans-serif\",\n",
    "        \"font.family\": \"sans\",\n",
    "        \"font.serif\": [\"Exo 2\"],\n",
    "        \"font.sans-serif\": [\"Exo 2\"],\n",
    "        'font.family': 'STIXGeneral', \n",
    "        'xtick.labelsize':16,\n",
    "        'ytick.labelsize':16,\n",
    "        'axes.labelsize' : 16,\n",
    "        'xtick.major.width':1,\n",
    "        'ytick.major.width':1,\n",
    "        'axes.linewidth':1,\n",
    "        'lines.linewidth':2,\n",
    "        'legend.fontsize':14,\n",
    "        \"grid.linestyle\":'--',                \n",
    "        })\n",
    "    pass\n",
    "reset_rc_params()\n",
    "\n",
    "def report_flag(summary,axis):\n",
    "    for id, stats in summary[ axis ].items():\n",
    "        print('%s %s: %5.1f percent flagged' % ( axis, id, 100. * stats[ 'flagged' ] / stats[ 'total' ] ))\n",
    "    pass\n"
   ]
  },
  {
   "cell_type": "markdown",
   "id": "fafb1a04-a584-4acc-af7e-46de0c8463e9",
   "metadata": {},
   "source": [
    "This notebook contain a series of commands to help with data combination. <br>\n",
    "It works with measurement sets from the same instrument or from different instruments. <br>\n",
    "Though, it was tested only with e-MERLIN and VLA. <br>\n",
    "\n",
    "What it does:\n",
    "- From a reference measurement set, take the phase centre from that and uses to shift the phasecentre according to it\n",
    "- Calculate the statistical weights and produce a combined visibility with homogeneous weights. Scalling factors ara calculatet using `statwt`."
   ]
  },
  {
   "cell_type": "markdown",
   "id": "dd9591b6",
   "metadata": {},
   "source": [
    "# Example with Ku band JVLA\n",
    "More examples will be added here, on a source-per-source basis."
   ]
  },
  {
   "cell_type": "markdown",
   "id": "47730d3f",
   "metadata": {},
   "source": [
    "## Ku Band VLA"
   ]
  },
  {
   "cell_type": "code",
   "execution_count": 2,
   "id": "1840f1e2",
   "metadata": {},
   "outputs": [],
   "source": [
    "ref_vis = '/media/sagauga/starbyte/LIRGI_Sample/VLA-Archive/A_config/Ku_band/Arp299/22A-314.sb41475013.eb41775491.59690.14839207176/fields/Arp299/Arp299.calibrated.ms'"
   ]
  },
  {
   "cell_type": "code",
   "execution_count": 3,
   "id": "679b8f66",
   "metadata": {},
   "outputs": [],
   "source": [
    "ref_info = listobs(vis=ref_vis,listfile=ref_vis+'.listobs',overwrite=True)"
   ]
  },
  {
   "cell_type": "code",
   "execution_count": 7,
   "id": "9f3f665f-371f-4b95-b233-4b7ceed68c99",
   "metadata": {},
   "outputs": [],
   "source": [
    "import subprocess\n",
    "import re"
   ]
  },
  {
   "cell_type": "code",
   "execution_count": 6,
   "id": "e9c1b392-2dfb-460d-aaca-c03fda329df9",
   "metadata": {},
   "outputs": [],
   "source": [
    "file_obs = ref_vis+'.listobs'"
   ]
  },
  {
   "cell_type": "code",
   "execution_count": 1,
   "id": "e035e6e2-c428-47d4-a485-972eb33110cb",
   "metadata": {},
   "outputs": [],
   "source": [
    "def get_phase_centre(ref_vis):\n",
    "    \"\"\"\n",
    "    Get the phasecentre of a measurement set, using listobs output.\n",
    "    \"\"\"\n",
    "    # This is a temporary workaround, it should change in the future.\n",
    "    try:\n",
    "        ref_info = listobs(vis=ref_vis,listfile=ref_vis+'.listobs',overwrite=True)\n",
    "        file_obs = ref_vis+'.listobs'\n",
    "        \n",
    "        output = subprocess.check_output(['cat', file_obs], text=True)\n",
    "        pattern = r'ID\\s+Code\\s+Name\\s+RA\\s+Decl\\s+Epoch\\s+SrcId\\s+nRows\\n\\s+\\d+\\s+\\S+\\s+\\S+\\s+([\\d:.]+)\\s+([+\\-\\d:.]+)'\n",
    "        matches = re.findall(pattern, output)\n",
    "        print('J2000 ' + matches[0][0] + ' ' + matches[0][1])\n",
    "        return('J2000 ' + matches[0][0] + ' ' + matches[0][1])\n",
    "\n",
    "    except subprocess.CalledProcessError as e:\n",
    "        print(\"An error occurred while reading the file.\")\n",
    "        output = \"\"\n"
   ]
  },
  {
   "cell_type": "code",
   "execution_count": 28,
   "id": "c15fa249-0373-49d2-85db-235c9134771e",
   "metadata": {},
   "outputs": [
    {
     "name": "stdout",
     "output_type": "stream",
     "text": [
      "J2000 11:28:31.320000 +58.33.41.69999\n"
     ]
    },
    {
     "data": {
      "text/plain": [
       "'J2000 11:28:31.320000 +58.33.41.69999'"
      ]
     },
     "execution_count": 28,
     "metadata": {},
     "output_type": "execute_result"
    }
   ],
   "source": [
    "get_phase_centre(ref_vis)"
   ]
  },
  {
   "cell_type": "code",
   "execution_count": 14,
   "id": "1eb69786-320c-4161-ac78-dd3a09641632",
   "metadata": {},
   "outputs": [],
   "source": []
  },
  {
   "cell_type": "code",
   "execution_count": 15,
   "id": "4509cbcf-cc4e-4f97-8833-2041856e5b69",
   "metadata": {},
   "outputs": [
    {
     "data": {
      "text/plain": [
       "[('11:28:31.320000', '+58.33.41.69999')]"
      ]
     },
     "execution_count": 15,
     "metadata": {},
     "output_type": "execute_result"
    }
   ],
   "source": [
    "matches"
   ]
  },
  {
   "cell_type": "code",
   "execution_count": 16,
   "id": "b9d1268d-d877-4281-b4af-96ab47c14287",
   "metadata": {},
   "outputs": [
    {
     "name": "stdout",
     "output_type": "stream",
     "text": [
      "RA: 11:28:31.320000, DEC: +58.33.41.69999\n"
     ]
    }
   ],
   "source": [
    "for match in matches:\n",
    "    print(f\"RA: {match[0]}, DEC: {match[1]}\")"
   ]
  },
  {
   "cell_type": "code",
   "execution_count": 18,
   "id": "554015f5",
   "metadata": {},
   "outputs": [],
   "source": [
    "# os.system('cat '+ref_vis+'.listobs')"
   ]
  },
  {
   "cell_type": "code",
   "execution_count": 29,
   "id": "d1c49b0f-d69f-4f3c-9fd1-f76561ab2a18",
   "metadata": {},
   "outputs": [
    {
     "name": "stdout",
     "output_type": "stream",
     "text": [
      "J2000 11:28:31.320000 +58.33.41.69999\n"
     ]
    }
   ],
   "source": [
    "# ref_phasecentre = 'J2000 11:28:31.320000 +58.33.41.69999'\n",
    "ref_phasecentre = get_phase_centre(ref_vis)"
   ]
  },
  {
   "cell_type": "code",
   "execution_count": 9,
   "id": "4be7fc7b",
   "metadata": {},
   "outputs": [],
   "source": [
    "# ref_phasecentre = 'J2000 11:28:31.320000 +58.33.41.69999'\n",
    "names = ['/media/sagauga/starbyte/LIRGI_Sample/VLA-Archive/A_config/Ku_band/Arp299/20B-279.sb39070014.eb39191064.59204.52319636574/fields/Arp299/Arp299.calibrated.ms']\n",
    "# Shift the phasecentre\n",
    "for name in names:\n",
    "    phaseshift(vis=name,phasecenter=ref_phasecentre,\n",
    "               outputvis=name.replace('.ms','')+'_phaseshift.ms')"
   ]
  },
  {
   "cell_type": "code",
   "execution_count": 10,
   "id": "f2cf7efc",
   "metadata": {},
   "outputs": [],
   "source": [
    "names = ['/media/sagauga/starbyte/LIRGI_Sample/VLA-Archive/A_config/Ku_band/Arp299/20B-279.sb39070014.eb39191064.59204.52319636574/fields/Arp299/Arp299.calibrated_phaseshift.ms',\n",
    "         ref_vis\n",
    "         ]"
   ]
  },
  {
   "cell_type": "code",
   "execution_count": 11,
   "id": "83df8a07",
   "metadata": {},
   "outputs": [
    {
     "data": {
      "text/plain": [
       "['/media/sagauga/starbyte/LIRGI_Sample/VLA-Archive/A_config/Ku_band/Arp299/20B-279.sb39070014.eb39191064.59204.52319636574/fields/Arp299/Arp299.calibrated_phaseshift.ms',\n",
       " '/media/sagauga/starbyte/LIRGI_Sample/VLA-Archive/A_config/Ku_band/Arp299/22A-314.sb41475013.eb41775491.59690.14839207176/fields/Arp299/Arp299.calibrated.ms']"
      ]
     },
     "execution_count": 11,
     "metadata": {},
     "output_type": "execute_result"
    }
   ],
   "source": [
    "names"
   ]
  },
  {
   "cell_type": "code",
   "execution_count": 12,
   "id": "bf271327",
   "metadata": {},
   "outputs": [
    {
     "name": "stderr",
     "output_type": "stream",
     "text": [
      "100%|██████████| 2/2 [00:01<00:00,  1.90it/s]"
     ]
    },
    {
     "name": "stdout",
     "output_type": "stream",
     "text": [
      "SN 2010P\n",
      "NGC3690\n"
     ]
    },
    {
     "name": "stderr",
     "output_type": "stream",
     "text": [
      "\n"
     ]
    }
   ],
   "source": [
    "list_obs_info = []\n",
    "for name in tqdm(names):\n",
    "    vis = name + ''\n",
    "    list_obs_info_i = listobs(vis=vis,listfile=name+'.listobs',overwrite=True)\n",
    "    list_obs_info.append(list_obs_info_i)\n",
    "df_lo = pd.DataFrame(list_obs_info)\n",
    "\n",
    "for i in range(len(df_lo['field_0'])):\n",
    "    print(df_lo['field_0'][i]['name'])"
   ]
  },
  {
   "cell_type": "code",
   "execution_count": 13,
   "id": "ad7956b5",
   "metadata": {},
   "outputs": [
    {
     "name": "stderr",
     "output_type": "stream",
     "text": [
      "  0%|          | 0/2 [00:00<?, ?it/s]....10....20....30....40....50....60....70....80....90....100%\n",
      " 50%|█████     | 1/2 [08:21<08:21, 501.13s/it]....10....20....30....40....50....60....70....80....90....100%\n",
      "100%|██████████| 2/2 [14:19<00:00, 429.89s/it]\n"
     ]
    }
   ],
   "source": [
    "stats = []\n",
    "for name in tqdm(names):\n",
    "    vis = name + ''\n",
    "    stats_i = statwt(vis=vis,preview=True,datacolumn='data',timebin='12s',statalg='chauvenet')\n",
    "    stats.append(stats_i)\n",
    "df = pd.DataFrame(stats)"
   ]
  },
  {
   "cell_type": "code",
   "execution_count": 14,
   "id": "e2d251c2",
   "metadata": {},
   "outputs": [
    {
     "data": {
      "text/plain": [
       "0    0.973815\n",
       "1    1.027632\n",
       "Name: wt_factor, dtype: float64"
      ]
     },
     "execution_count": 14,
     "metadata": {},
     "output_type": "execute_result"
    }
   ],
   "source": [
    "wt_mean = np.mean(df['mean'])\n",
    "df['mean']\n",
    "df['wt_factor'] = wt_mean/df['mean']\n",
    "df['wt_factor']"
   ]
  },
  {
   "cell_type": "code",
   "execution_count": 15,
   "id": "e2ebbdcc",
   "metadata": {},
   "outputs": [],
   "source": [
    "concatvis='/media/sagauga/starbyte/LIRGI_Sample/VLA-Archive/A_config/Ku_band/Arp299/concatenated_calibrated_data/Arp299_multi_2x_Ku_EVLA.ms'\n",
    "concat(vis=names,\n",
    "       concatvis=concatvis,\n",
    "       freqtol='1MHz',visweightscale=list(df['wt_factor'])\n",
    "      )"
   ]
  },
  {
   "cell_type": "code",
   "execution_count": 16,
   "id": "0bd08b97",
   "metadata": {},
   "outputs": [],
   "source": [
    "split(vis=concatvis,\n",
    "      outputvis=concatvis.replace('.ms','.avg6s.ms'),\n",
    "      datacolumn='data',timebin='6s')"
   ]
  },
  {
   "cell_type": "markdown",
   "id": "09a855f2",
   "metadata": {},
   "source": []
  }
 ],
 "metadata": {
  "kernelspec": {
   "display_name": "Python 3 (ipykernel)",
   "language": "python",
   "name": "python3"
  },
  "language_info": {
   "codemirror_mode": {
    "name": "ipython",
    "version": 3
   },
   "file_extension": ".py",
   "mimetype": "text/x-python",
   "name": "python",
   "nbconvert_exporter": "python",
   "pygments_lexer": "ipython3",
   "version": "3.8.18"
  }
 },
 "nbformat": 4,
 "nbformat_minor": 5
}

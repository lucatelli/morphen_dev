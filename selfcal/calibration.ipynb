{
 "cells": [
  {
   "cell_type": "code",
   "execution_count": 1,
   "id": "83d29eeb",
   "metadata": {},
   "outputs": [],
   "source": [
    "from casatasks import *\n",
    "# from casatools import *\n",
    "import casatools\n",
    "import os\n",
    "from selfcal import *\n",
    "\n",
    "# from calibration_script_v3 import *\n",
    "from casaplotms import plotms\n",
    "from casaviewer.imview import imview"
   ]
  },
  {
   "cell_type": "code",
   "execution_count": 2,
   "id": "179b2f3e",
   "metadata": {},
   "outputs": [],
   "source": [
    "# imview()"
   ]
  },
  {
   "cell_type": "code",
   "execution_count": 3,
   "id": "b0104cb8",
   "metadata": {},
   "outputs": [],
   "source": [
    "path = '/media/sagauga/storage_wd_2/astronomical_data/lirgi/vla/L_band/'\n",
    "name = path + '18A-095.sb35122044.eb35463311.58270.937465740746_short'\n",
    "vis = name + '.ms'"
   ]
  },
  {
   "cell_type": "code",
   "execution_count": 4,
   "id": "3c66cb52",
   "metadata": {},
   "outputs": [],
   "source": [
    "# # proj_name = '.calibrated'\n",
    "# proj_name = '_combined_w_0.75'\n",
    "# image_list = ['UGC8696']#,'VV250a','VV705']\n",
    "path = '/run/media/sagauga/storage_wd_2/astronomical_data/lirgi/vla/C_band/AL746/CGCG448-020/'\n",
    "field = 'CGCG448-020'\n",
    "proj_name = '.AL746_combined.calibrated.avg8s'\n",
    "g_name = path + field + proj_name\n",
    "g_vis = g_name + '.ms'"
   ]
  },
  {
   "cell_type": "code",
   "execution_count": 5,
   "id": "a4c7231b",
   "metadata": {},
   "outputs": [
    {
     "data": {
      "text/plain": [
       "'/run/media/sagauga/storage_wd_2/astronomical_data/lirgi/vla/C_band/AL746/CGCG448-020/CGCG448-020.AL746_combined.calibrated.avg8s'"
      ]
     },
     "execution_count": 5,
     "metadata": {},
     "output_type": "execute_result"
    }
   ],
   "source": [
    "g_name"
   ]
  },
  {
   "cell_type": "code",
   "execution_count": 6,
   "id": "f3179095",
   "metadata": {},
   "outputs": [],
   "source": [
    "steps=['save_init_flags']"
   ]
  },
  {
   "cell_type": "code",
   "execution_count": 15,
   "id": "54d93dc8",
   "metadata": {},
   "outputs": [
    {
     "name": "stderr",
     "output_type": "stream",
     "text": [
      "....10....20....30....40....50....60....70....80....90....100%\n"
     ]
    },
    {
     "data": {
      "text/plain": [
       "{'mean': 142.85392118087216, 'variance': 50120.305181785116}"
      ]
     },
     "execution_count": 15,
     "metadata": {},
     "output_type": "execute_result"
    }
   ],
   "source": [
    "statwt(vis=g_vis,datacolumn='data')"
   ]
  },
  {
   "cell_type": "code",
   "execution_count": 7,
   "id": "cffcfb30",
   "metadata": {},
   "outputs": [
    {
     "name": "stdout",
     "output_type": "stream",
     "text": [
      "     ==> Skipping flagging backup init (exists).\n"
     ]
    }
   ],
   "source": [
    "if 'save_init_flags' in steps:\n",
    "    if not os.path.exists(g_name+'.ms.flagversions/flags.Original/'):\n",
    "        flagmanager(vis=g_name+'.ms',mode='save',versionname='Original',\n",
    "            comment='Original flags.')\n",
    "    else:\n",
    "        print('     ==> Skipping flagging backup init (exists).')"
   ]
  },
  {
   "cell_type": "code",
   "execution_count": 8,
   "id": "0fdf7d2c",
   "metadata": {},
   "outputs": [],
   "source": [
    "os.environ['SAVE_ALL_AUTOMASKS']=\"false\""
   ]
  },
  {
   "cell_type": "code",
   "execution_count": 9,
   "id": "e5fdfc54",
   "metadata": {},
   "outputs": [],
   "source": [
    "steps=['0']"
   ]
  },
  {
   "cell_type": "code",
   "execution_count": null,
   "id": "01d66c42",
   "metadata": {},
   "outputs": [
    {
     "name": "stdout",
     "output_type": "stream",
     "text": [
      "selfcal/0_start_image_interactive_CGCG448-020.AL746_combined.calibrated.avg8s_3072_0.05arcsec_500.briggs.0.0.mfs.mtmfs.standard.image\n"
     ]
    },
    {
     "name": "stderr",
     "output_type": "stream",
     "text": [
      "2023-07-17 01:06:33\tSEVERE\tMeasTable::dUTC(Double) (file casacore/measures/Measures/MeasTable.cc, line 4292)\tLeap second table TAI_UTC seems out-of-date.\n",
      "2023-07-17 01:06:33\tSEVERE\tMeasTable::dUTC(Double) (file casacore/measures/Measures/MeasTable.cc, line 4292)+\tUntil the table is updated (see the CASA documentation or your system admin),\n",
      "2023-07-17 01:06:33\tSEVERE\tMeasTable::dUTC(Double) (file casacore/measures/Measures/MeasTable.cc, line 4292)+\ttimes and coordinates derived from UTC could be wrong by 1s or more.\n",
      "\n",
      "0%....10....20....30....40....50....60....70....80....90....100%\n",
      "\n",
      "0%....10....20....30....40....50....60....70....80....90....100%\n",
      "Qt: Session management error: None of the authentication protocols specified are supported\n",
      "\n",
      "0%....10....20....30....40....50....60....70....80....90....100%\n",
      "\n",
      "0%....10....20....30....40....50....60....70....80....90....100%\n",
      "\n",
      "0%....10."
     ]
    }
   ],
   "source": [
    "if '0' in steps:\n",
    "    ############################################################################\n",
    "    #### 0. Zero interaction. Use a small/negative robust parameter,        ####\n",
    "    ####    to find the bright/compact emission(s).                         ####\n",
    "    ############################################################################\n",
    "    robust = 0.0 #decrease more if lots of failed solutions.\n",
    "    niter = 500\n",
    "    threshold = '20.0e-6Jy'\n",
    "\n",
    "    start_image(g_name,field,0,delmodel=False,PLOT=True,niter=niter,\n",
    "        interactive=interactive,usemask=usemask,datacolumn='data')\n",
    "\n",
    "    # check_solutions(g_name,field,calmode='p',combine='scan')\n",
    "    gain_tables_selfcal_temp=self_gain_cal(g_name,field,n_interaction=0,\n",
    "        niter=niter,\n",
    "        minsnr = 1.0,solint = '240s',flagbackup=True,combine='',\n",
    "        calmode='p',action='calculate',PLOT=True)\n",
    "\n",
    "    # robust = 0.0\n",
    "    # image_selfcal(g_name,field,n_interaction=0,interactive=False,usemask=usemask)"
   ]
  },
  {
   "cell_type": "code",
   "execution_count": null,
   "id": "d3ea50d7",
   "metadata": {},
   "outputs": [],
   "source": []
  }
 ],
 "metadata": {
  "kernelspec": {
   "display_name": "Python 3 (ipykernel)",
   "language": "python",
   "name": "python3"
  },
  "language_info": {
   "codemirror_mode": {
    "name": "ipython",
    "version": 3
   },
   "file_extension": ".py",
   "mimetype": "text/x-python",
   "name": "python",
   "nbconvert_exporter": "python",
   "pygments_lexer": "ipython3",
   "version": "3.8.16"
  }
 },
 "nbformat": 4,
 "nbformat_minor": 5
}

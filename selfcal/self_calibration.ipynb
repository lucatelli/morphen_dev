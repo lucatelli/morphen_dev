{
 "cells": [
  {
   "cell_type": "code",
   "execution_count": 1,
   "id": "83d29eeb",
   "metadata": {},
   "outputs": [],
   "source": [
    "from casatasks import *\n",
    "# from casatools import *\n",
    "import casatools\n",
    "import os\n",
    "from selfcal import *\n",
    "\n",
    "# from calibration_script_v3 import *\n",
    "from casaplotms import plotms\n",
    "from casaviewer.imview import imview\n",
    "\n",
    "msmd = casatools.msmetadata()\n",
    "ms = casatools.ms()\n",
    "tb = casatools.table()"
   ]
  },
  {
   "cell_type": "code",
   "execution_count": 2,
   "id": "ad4b92d9",
   "metadata": {},
   "outputs": [],
   "source": [
    "# imview()"
   ]
  },
  {
   "cell_type": "code",
   "execution_count": 3,
   "id": "b0104cb8",
   "metadata": {},
   "outputs": [],
   "source": [
    "path = '/media/sagauga/storage_wd_2/astronomical_data/lirgi/vla/L_band/'\n",
    "name = path + '18A-095.sb35122044.eb35463311.58270.937465740746_short'\n",
    "vis = name + '.ms'"
   ]
  },
  {
   "cell_type": "code",
   "execution_count": 4,
   "id": "c7f33a90",
   "metadata": {},
   "outputs": [],
   "source": [
    "# # proj_name = '.calibrated'\n",
    "# proj_name = '_combined_w_0.75'\n",
    "# image_list = ['UGC8696']#,'VV250a','VV705']\n",
    "path = '/run/media/sagauga/storage_wd_2/astronomical_data/lirgi/vla/C_band/AL746/CGCG448-020/'\n",
    "field = 'CGCG448-020'\n",
    "proj_name = '.AL746_combined.calibrated.avg8s'\n",
    "g_name = path + field + proj_name\n",
    "g_vis = g_name + '.ms'"
   ]
  },
  {
   "cell_type": "code",
   "execution_count": 5,
   "id": "a4c7231b",
   "metadata": {},
   "outputs": [
    {
     "data": {
      "text/plain": [
       "'/run/media/sagauga/storage_wd_2/astronomical_data/lirgi/vla/C_band/AL746/CGCG448-020/CGCG448-020.AL746_combined.calibrated.avg8s'"
      ]
     },
     "execution_count": 5,
     "metadata": {},
     "output_type": "execute_result"
    }
   ],
   "source": [
    "g_name"
   ]
  },
  {
   "cell_type": "code",
   "execution_count": 6,
   "id": "d9014b47",
   "metadata": {},
   "outputs": [],
   "source": [
    "steps=['save_init_flags']"
   ]
  },
  {
   "cell_type": "code",
   "execution_count": 15,
   "id": "67952126",
   "metadata": {},
   "outputs": [
    {
     "name": "stderr",
     "output_type": "stream",
     "text": [
      "....10....20....30....40....50....60....70....80....90....100%\n"
     ]
    },
    {
     "data": {
      "text/plain": [
       "{'mean': 142.85392118087216, 'variance': 50120.305181785116}"
      ]
     },
     "execution_count": 15,
     "metadata": {},
     "output_type": "execute_result"
    }
   ],
   "source": [
    "statwt(vis=g_vis,datacolumn='data')"
   ]
  },
  {
   "cell_type": "code",
   "execution_count": null,
   "id": "c9d178cc",
   "metadata": {},
   "outputs": [],
   "source": [
    "if 'save_init_flags' in steps:\n",
    "    if not os.path.exists(path+'selfcal/'):\n",
    "        os.makedirs(path+'selfcal/')\n",
    "    if not os.path.exists(path+'selfcal/plots'):\n",
    "        os.makedirs(path+'selfcal/plots')\n",
    "    if not os.path.exists(g_name+'.ms.flagversions/flags.Original/'):\n",
    "        flagmanager(vis=g_name+'.ms',mode='save',versionname='Original',\n",
    "            comment='Original flags.')\n",
    "    else:\n",
    "        print('     ==> Skipping flagging backup init (exists).')"
   ]
  },
  {
   "cell_type": "code",
   "execution_count": 6,
   "id": "e1ee02e7",
   "metadata": {},
   "outputs": [],
   "source": [
    "steps=['restore_init_flags']"
   ]
  },
  {
   "cell_type": "code",
   "execution_count": 7,
   "id": "91ce1762",
   "metadata": {},
   "outputs": [
    {
     "name": "stdout",
     "output_type": "stream",
     "text": [
      "     ==> Restoring flags to original...\n",
      "     ==> Renaming selfcal/ folder to selfcal.old/ \n"
     ]
    }
   ],
   "source": [
    "if 'restore_init_flags' in steps:\n",
    "    try:\n",
    "        print('     ==> Restoring flags to original...')\n",
    "        flagmanager(vis=g_name+'.ms',mode='restore',versionname='Original')\n",
    "#         delmod(vis=g_name + '.ms')\n",
    "#         clearcal(vis=g_name + '.ms')\n",
    "        print('     ==> Renaming selfcal/ folder to selfcal.old/ ')\n",
    "#         os.system('mv selfcal/ selfcal.old/')\n",
    "    except:\n",
    "        pass"
   ]
  },
  {
   "cell_type": "code",
   "execution_count": 8,
   "id": "e8af6dcb",
   "metadata": {},
   "outputs": [
    {
     "name": "stdout",
     "output_type": "stream",
     "text": [
      "field CGCG448-020:  41.7 percent flagged\n"
     ]
    }
   ],
   "source": [
    "summary = flagdata(vis=g_name+'.ms', field='',mode='summary')\n",
    "report_flag(summary,'field')"
   ]
  },
  {
   "cell_type": "code",
   "execution_count": null,
   "id": "1027227b",
   "metadata": {},
   "outputs": [],
   "source": []
  },
  {
   "cell_type": "code",
   "execution_count": 6,
   "id": "cae4a0d1",
   "metadata": {},
   "outputs": [],
   "source": [
    "os.environ['SAVE_ALL_AUTOMASKS']=\"false\""
   ]
  },
  {
   "cell_type": "code",
   "execution_count": null,
   "id": "5544522a",
   "metadata": {},
   "outputs": [],
   "source": []
  },
  {
   "cell_type": "code",
   "execution_count": null,
   "id": "44e9d12a",
   "metadata": {},
   "outputs": [],
   "source": []
  },
  {
   "cell_type": "code",
   "execution_count": 9,
   "id": "e33229a1",
   "metadata": {},
   "outputs": [],
   "source": [
    "steps=['0']"
   ]
  },
  {
   "cell_type": "code",
   "execution_count": 10,
   "id": "fffa2050",
   "metadata": {},
   "outputs": [
    {
     "name": "stdout",
     "output_type": "stream",
     "text": [
      "selfcal/0_start_image_interactive_CGCG448-020.AL746_combined.calibrated.avg8s_3072_0.05arcsec_500.briggs.0.0.mfs.mtmfs.standard.image\n"
     ]
    },
    {
     "name": "stderr",
     "output_type": "stream",
     "text": [
      "2023-07-17 01:06:33\tSEVERE\tMeasTable::dUTC(Double) (file casacore/measures/Measures/MeasTable.cc, line 4292)\tLeap second table TAI_UTC seems out-of-date.\n",
      "2023-07-17 01:06:33\tSEVERE\tMeasTable::dUTC(Double) (file casacore/measures/Measures/MeasTable.cc, line 4292)+\tUntil the table is updated (see the CASA documentation or your system admin),\n",
      "2023-07-17 01:06:33\tSEVERE\tMeasTable::dUTC(Double) (file casacore/measures/Measures/MeasTable.cc, line 4292)+\ttimes and coordinates derived from UTC could be wrong by 1s or more.\n",
      "\n",
      "0%....10....20....30....40....50....60....70....80....90....100%\n",
      "\n",
      "0%....10....20....30....40....50....60....70....80....90....100%\n",
      "Qt: Session management error: None of the authentication protocols specified are supported\n",
      "\n",
      "0%....10....20....30....40....50....60....70....80....90....100%\n",
      "\n",
      "0%....10....20....30....40....50....60....70....80....90....100%\n",
      "\n",
      "0%....10....20....30....40....50....60....70....80....90....100%\n",
      "\n",
      "0%....10....20....30....40....50....60....70....80....90....100%\n",
      "\n",
      "0%....10....20....30....40....50....60....70....80....90....100%\n",
      "\n",
      "0%....10....20....30....40....50....60....70....80....90....100%\n"
     ]
    },
    {
     "name": "stdout",
     "output_type": "stream",
     "text": [
      "(0) waiting for viewer process...\n",
      "(1) waiting for viewer process...\n",
      "(2) waiting for viewer process...\n",
      "(3) waiting for viewer process...\n"
     ]
    },
    {
     "name": "stderr",
     "output_type": "stream",
     "text": [
      "Qt: Session management error: None of the authentication protocols specified are supported\n"
     ]
    },
    {
     "name": "stdout",
     "output_type": "stream",
     "text": [
      "(4) waiting for viewer process...\n",
      "\t...{'id': 'casaviewer:b246', 'priority': 0, 'types': array(['shutdown', 'image-view', 'interactive-clean'], dtype='<U18'), 'uri': '0.0.0.0:45405'}\n"
     ]
    },
    {
     "name": "stderr",
     "output_type": "stream",
     "text": [
      "E0717 09:41:59.030668369    7960 call.cc:896]                Invalid entry in accept encoding metadata: ' deflate'. Ignoring.\n",
      "E0717 09:41:59.030733967    7960 call.cc:896]                Invalid entry in accept encoding metadata: ' gzip'. Ignoring.\n",
      "Qt: Session management error: None of the authentication protocols specified are supported\n",
      "E0717 09:42:07.761279698    8036 call.cc:896]                Invalid entry in accept encoding metadata: ' deflate'. Ignoring.\n",
      "E0717 09:42:07.761293693    8036 call.cc:896]                Invalid entry in accept encoding metadata: ' gzip'. Ignoring.\n"
     ]
    },
    {
     "name": "stdout",
     "output_type": "stream",
     "text": [
      "NOTICE: Exporting to images in screen resolution is currently not working.  Switching to high resolution (which is slower, but works).\n",
      "NOTICE: Exporting to images in screen resolution is currently not working.  Switching to high resolution (which is slower, but works).\n",
      "NOTICE: Exporting to images in screen resolution is currently not working.  Switching to high resolution (which is slower, but works).\n",
      "NOTICE: Exporting to images in screen resolution is currently not working.  Switching to high resolution (which is slower, but works).\n",
      "NOTICE: Exporting to images in screen resolution is currently not working.  Switching to high resolution (which is slower, but works).\n",
      "NOTICE: Exporting to images in screen resolution is currently not working.  Switching to high resolution (which is slower, but works).\n",
      "NOTICE: Exporting to images in screen resolution is currently not working.  Switching to high resolution (which is slower, but works).\n",
      "NOTICE: Exporting to images in screen resolution is currently not working.  Switching to high resolution (which is slower, but works).\n",
      "NOTICE: Exporting to images in screen resolution is currently not working.  Switching to high resolution (which is slower, but works).\n",
      "NOTICE: Exporting to images in screen resolution is currently not working.  Switching to high resolution (which is slower, but works).\n",
      " Start Image Statistics:\n",
      " Flux=0.00387 Jy/Beam\n",
      " Flux peak (image)=0.00129 Jy Flux peak (residual)=0.00016 Jy\n",
      " flux_im/sigma_im=139.71182 flux_im/sigma_re=354.37104\n",
      " rms_im=0.00003 rms_re=0.00001\n",
      " flux_peak_im/rms_im=46.52428 flux_peak_re/rms_re=14.49307\n",
      " sumsq_im/sumsq_re=6.43354\n",
      "3 of 44 solutions flagged due to SNR < 1 in spw=1 at 2011/06/29/09:42:14.2\n",
      "1 of 44 solutions flagged due to SNR < 1 in spw=2 at 2011/06/29/09:42:14.3\n",
      "1 of 46 solutions flagged due to SNR < 1 in spw=3 at 2011/06/29/09:42:14.4\n",
      "7 of 46 solutions flagged due to SNR < 1 in spw=4 at 2011/06/29/09:42:15.5\n",
      "2 of 46 solutions flagged due to SNR < 1 in spw=5 at 2011/06/29/09:42:17.1\n",
      "1 of 44 solutions flagged due to SNR < 1 in spw=6 at 2011/06/29/09:42:14.2\n",
      "2 of 44 solutions flagged due to SNR < 1 in spw=9 at 2011/06/29/09:42:14.3\n",
      "1 of 46 solutions flagged due to SNR < 1 in spw=11 at 2011/06/29/09:42:14.3\n",
      "2 of 44 solutions flagged due to SNR < 1 in spw=14 at 2011/06/29/09:42:14.2\n",
      "1 of 46 solutions flagged due to SNR < 1 in spw=16 at 2011/06/29/09:42:14.2\n",
      "1 of 48 solutions flagged due to SNR < 1 in spw=1 at 2011/06/29/09:43:02.2\n",
      " Insufficient unflagged antennas to proceed with this solve.\n",
      "   (time=2011/06/29/09:42:35.8 field=0 spw=3 chan=0)\n",
      " Insufficient unflagged antennas to proceed with this solve.\n",
      "   (time=2011/06/29/09:42:35.8 field=0 spw=4 chan=0)\n",
      " Insufficient unflagged antennas to proceed with this solve.\n",
      "   (time=2011/06/29/09:42:35.7 field=0 spw=5 chan=0)\n",
      "1 of 46 solutions flagged due to SNR < 1 in spw=6 at 2011/06/29/09:43:02.0\n",
      " Insufficient unflagged antennas to proceed with this solve.\n",
      "   (time=2011/06/29/09:42:36.0 field=0 spw=9 chan=0)\n",
      "1 of 46 solutions flagged due to SNR < 1 in spw=9 at 2011/06/29/09:43:02.3\n",
      "1 of 46 solutions flagged due to SNR < 1 in spw=10 at 2011/06/29/09:43:02.0\n",
      " Insufficient unflagged antennas to proceed with this solve.\n",
      "   (time=2011/06/29/09:42:35.9 field=0 spw=11 chan=0)\n",
      " Insufficient unflagged antennas to proceed with this solve.\n",
      "   (time=2011/06/29/09:42:36.0 field=0 spw=13 chan=0)\n",
      " Insufficient unflagged antennas to proceed with this solve.\n",
      "   (time=2011/06/29/09:42:36.0 field=0 spw=15 chan=0)\n",
      "1 of 48 solutions flagged due to SNR < 1 in spw=15 at 2011/06/29/09:43:02.3\n",
      " Insufficient unflagged antennas to proceed with this solve.\n",
      "   (time=2011/06/29/09:42:35.9 field=0 spw=16 chan=0)\n",
      "1 of 48 solutions flagged due to SNR < 1 in spw=16 at 2011/06/29/09:43:02.2\n",
      "1 of 46 solutions flagged due to SNR < 1 in spw=3 at 2011/06/29/09:45:23.6\n",
      "1 of 46 solutions flagged due to SNR < 1 in spw=4 at 2011/06/29/09:45:23.4\n",
      "3 of 48 solutions flagged due to SNR < 1 in spw=5 at 2011/06/29/09:45:22.9\n",
      "3 of 46 solutions flagged due to SNR < 1 in spw=7 at 2011/06/29/09:45:23.4\n",
      "3 of 46 solutions flagged due to SNR < 1 in spw=9 at 2011/06/29/09:45:24.0\n",
      "1 of 48 solutions flagged due to SNR < 1 in spw=13 at 2011/06/29/09:45:22.8\n",
      "1 of 46 solutions flagged due to SNR < 1 in spw=14 at 2011/06/29/09:45:23.3\n",
      "2 of 48 solutions flagged due to SNR < 1 in spw=16 at 2011/06/29/09:45:23.3\n",
      "1 of 48 solutions flagged due to SNR < 1 in spw=1 at 2011/06/29/09:46:11.4\n",
      " Insufficient unflagged antennas to proceed with this solve.\n",
      "   (time=2011/06/29/09:45:45.5 field=0 spw=3 chan=0)\n",
      " Insufficient unflagged antennas to proceed with this solve.\n",
      "   (time=2011/06/29/09:45:45.5 field=0 spw=4 chan=0)\n",
      "1 of 46 solutions flagged due to SNR < 1 in spw=6 at 2011/06/29/09:46:11.5\n",
      " Insufficient unflagged antennas to proceed with this solve.\n",
      "   (time=2011/06/29/09:45:45.5 field=0 spw=9 chan=0)\n",
      " Insufficient unflagged antennas to proceed with this solve.\n",
      "   (time=2011/06/29/09:45:45.5 field=0 spw=11 chan=0)\n",
      " Insufficient unflagged antennas to proceed with this solve.\n",
      "   (time=2011/06/29/09:45:45.5 field=0 spw=13 chan=0)\n",
      " Insufficient unflagged antennas to proceed with this solve.\n",
      "   (time=2011/06/29/09:45:45.5 field=0 spw=15 chan=0)\n",
      "1 of 48 solutions flagged due to SNR < 1 in spw=15 at 2011/06/29/09:46:11.6\n",
      " Insufficient unflagged antennas to proceed with this solve.\n",
      "   (time=2011/06/29/09:45:45.5 field=0 spw=16 chan=0)\n",
      "8 of 52 solutions flagged due to SNR < 1 in spw=1 at 2011/06/29/09:48:32.1\n",
      "2 of 50 solutions flagged due to SNR < 1 in spw=4 at 2011/06/29/09:48:33.3\n",
      "2 of 50 solutions flagged due to SNR < 1 in spw=5 at 2011/06/29/09:48:33.2\n",
      "1 of 50 solutions flagged due to SNR < 1 in spw=6 at 2011/06/29/09:48:33.3\n",
      "1 of 50 solutions flagged due to SNR < 1 in spw=8 at 2011/06/29/09:48:33.2\n",
      "1 of 46 solutions flagged due to SNR < 1 in spw=9 at 2011/06/29/09:48:33.3\n",
      "1 of 48 solutions flagged due to SNR < 1 in spw=10 at 2011/06/29/09:48:33.2\n",
      "2 of 50 solutions flagged due to SNR < 1 in spw=16 at 2011/06/29/09:48:33.2\n",
      " Insufficient unflagged antennas to proceed with this solve.\n",
      "   (time=2011/06/29/09:48:55.5 field=0 spw=1 chan=0)\n",
      "3 of 52 solutions flagged due to SNR < 1 in spw=1 at 2011/06/29/09:49:21.7\n",
      "1 of 50 solutions flagged due to SNR < 1 in spw=2 at 2011/06/29/09:49:21.5\n",
      "2 of 50 solutions flagged due to SNR < 1 in spw=5 at 2011/06/29/09:49:21.5\n",
      "3 of 50 solutions flagged due to SNR < 1 in spw=1 at 2011/07/05/09:18:36.8\n",
      "1 of 50 solutions flagged due to SNR < 1 in spw=2 at 2011/07/05/09:18:36.9\n",
      "2 of 50 solutions flagged due to SNR < 1 in spw=3 at 2011/07/05/09:18:36.7\n",
      "3 of 50 solutions flagged due to SNR < 1 in spw=5 at 2011/07/05/09:18:36.8\n",
      "2 of 50 solutions flagged due to SNR < 1 in spw=6 at 2011/07/05/09:18:36.8\n",
      "3 of 50 solutions flagged due to SNR < 1 in spw=7 at 2011/07/05/09:18:36.7\n",
      "4 of 50 solutions flagged due to SNR < 1 in spw=8 at 2011/07/05/09:18:36.8\n",
      "3 of 48 solutions flagged due to SNR < 1 in spw=9 at 2011/07/05/09:18:36.9\n",
      "2 of 48 solutions flagged due to SNR < 1 in spw=10 at 2011/07/05/09:18:36.4\n",
      "1 of 52 solutions flagged due to SNR < 1 in spw=11 at 2011/07/05/09:18:36.8\n",
      "5 of 52 solutions flagged due to SNR < 1 in spw=14 at 2011/07/05/09:18:35.4\n",
      "3 of 50 solutions flagged due to SNR < 1 in spw=15 at 2011/07/05/09:18:32.8\n",
      "3 of 50 solutions flagged due to SNR < 1 in spw=16 at 2011/07/05/09:18:36.0\n",
      " Insufficient unflagged antennas to proceed with this solve.\n",
      "   (time=2011/07/05/09:18:58.5 field=0 spw=7 chan=0)\n",
      "4 of 52 solutions flagged due to SNR < 1 in spw=8 at 2011/07/05/09:19:24.5\n",
      " Insufficient unflagged antennas to proceed with this solve.\n",
      "   (time=2011/07/05/09:18:58.5 field=0 spw=11 chan=0)\n",
      "1 of 54 solutions flagged due to SNR < 1 in spw=11 at 2011/07/05/09:19:24.4\n",
      "1 of 52 solutions flagged due to SNR < 1 in spw=16 at 2011/07/05/09:19:24.6\n",
      "2 of 48 solutions flagged due to SNR < 1 in spw=2 at 2011/07/05/09:21:46.3\n",
      "2 of 48 solutions flagged due to SNR < 1 in spw=4 at 2011/07/05/09:21:46.3\n",
      "3 of 48 solutions flagged due to SNR < 1 in spw=5 at 2011/07/05/09:21:46.3\n",
      "2 of 48 solutions flagged due to SNR < 1 in spw=7 at 2011/07/05/09:21:46.3\n",
      "1 of 48 solutions flagged due to SNR < 1 in spw=8 at 2011/07/05/09:21:46.3\n",
      "3 of 46 solutions flagged due to SNR < 1 in spw=9 at 2011/07/05/09:21:46.1\n"
     ]
    },
    {
     "name": "stdout",
     "output_type": "stream",
     "text": [
      "2 of 46 solutions flagged due to SNR < 1 in spw=10 at 2011/07/05/09:21:46.2\n",
      "3 of 48 solutions flagged due to SNR < 1 in spw=11 at 2011/07/05/09:21:40.6\n",
      "2 of 40 solutions flagged due to SNR < 1 in spw=12 at 2011/07/05/09:21:46.3\n",
      "1 of 48 solutions flagged due to SNR < 1 in spw=13 at 2011/07/05/09:21:46.4\n",
      "1 of 48 solutions flagged due to SNR < 1 in spw=14 at 2011/07/05/09:21:46.4\n",
      "1 of 46 solutions flagged due to SNR < 1 in spw=15 at 2011/07/05/09:21:46.2\n",
      "1 of 50 solutions flagged due to SNR < 1 in spw=1 at 2011/07/05/09:22:34.5\n",
      "2 of 50 solutions flagged due to SNR < 1 in spw=4 at 2011/07/05/09:22:34.5\n",
      "1 of 50 solutions flagged due to SNR < 1 in spw=5 at 2011/07/05/09:22:34.5\n",
      " Insufficient unflagged antennas to proceed with this solve.\n",
      "   (time=2011/07/05/09:22:08.5 field=0 spw=9 chan=0)\n",
      "1 of 48 solutions flagged due to SNR < 1 in spw=9 at 2011/07/05/09:22:34.8\n",
      " Insufficient unflagged antennas to proceed with this solve.\n",
      "   (time=2011/07/05/09:22:08.5 field=0 spw=11 chan=0)\n",
      "2 of 50 solutions flagged due to SNR < 1 in spw=1 at 2011/07/05/09:24:55.5\n",
      "1 of 50 solutions flagged due to SNR < 1 in spw=2 at 2011/07/05/09:24:55.5\n",
      "1 of 50 solutions flagged due to SNR < 1 in spw=3 at 2011/07/05/09:24:55.5\n",
      "1 of 50 solutions flagged due to SNR < 1 in spw=4 at 2011/07/05/09:24:55.5\n",
      "3 of 50 solutions flagged due to SNR < 1 in spw=5 at 2011/07/05/09:24:55.5\n",
      "1 of 50 solutions flagged due to SNR < 1 in spw=7 at 2011/07/05/09:24:55.5\n",
      "1 of 50 solutions flagged due to SNR < 1 in spw=8 at 2011/07/05/09:24:55.5\n",
      "1 of 48 solutions flagged due to SNR < 1 in spw=9 at 2011/07/05/09:24:55.4\n",
      "1 of 48 solutions flagged due to SNR < 1 in spw=10 at 2011/07/05/09:24:55.4\n",
      "1 of 50 solutions flagged due to SNR < 1 in spw=4 at 2011/07/05/09:25:43.5\n",
      "1 of 50 solutions flagged due to SNR < 1 in spw=8 at 2011/07/05/09:25:43.5\n",
      "1 of 48 solutions flagged due to SNR < 1 in spw=9 at 2011/07/05/09:25:43.1\n",
      "1 of 50 solutions flagged due to SNR < 1 in spw=14 at 2011/07/05/09:25:43.5\n",
      "1 of 48 solutions flagged due to SNR < 1 in spw=16 at 2011/07/05/09:25:43.5\n",
      "1 of 50 solutions flagged due to SNR < 1 in spw=3 at 2011/08/16/06:33:30.5\n",
      "1 of 50 solutions flagged due to SNR < 1 in spw=5 at 2011/08/16/06:33:30.6\n",
      "2 of 50 solutions flagged due to SNR < 1 in spw=6 at 2011/08/16/06:33:30.5\n",
      "1 of 50 solutions flagged due to SNR < 1 in spw=8 at 2011/08/16/06:33:30.5\n",
      "4 of 50 solutions flagged due to SNR < 1 in spw=9 at 2011/08/16/06:33:30.6\n",
      "1 of 50 solutions flagged due to SNR < 1 in spw=10 at 2011/08/16/06:33:30.5\n",
      "1 of 50 solutions flagged due to SNR < 1 in spw=11 at 2011/08/16/06:33:30.5\n",
      "4 of 50 solutions flagged due to SNR < 1 in spw=13 at 2011/08/16/06:33:30.5\n",
      "2 of 50 solutions flagged due to SNR < 1 in spw=16 at 2011/08/16/06:33:30.5\n",
      "1 of 50 solutions flagged due to SNR < 1 in spw=1 at 2011/08/16/06:34:18.5\n",
      "1 of 50 solutions flagged due to SNR < 1 in spw=5 at 2011/08/16/06:34:18.5\n",
      "1 of 50 solutions flagged due to SNR < 1 in spw=1 at 2011/08/16/06:36:40.3\n",
      "1 of 50 solutions flagged due to SNR < 1 in spw=2 at 2011/08/16/06:36:40.3\n",
      "1 of 50 solutions flagged due to SNR < 1 in spw=4 at 2011/08/16/06:36:40.3\n",
      "1 of 50 solutions flagged due to SNR < 1 in spw=5 at 2011/08/16/06:36:40.3\n",
      "2 of 50 solutions flagged due to SNR < 1 in spw=6 at 2011/08/16/06:36:40.3\n",
      "2 of 50 solutions flagged due to SNR < 1 in spw=8 at 2011/08/16/06:36:40.3\n",
      "2 of 50 solutions flagged due to SNR < 1 in spw=9 at 2011/08/16/06:36:40.3\n",
      "1 of 50 solutions flagged due to SNR < 1 in spw=13 at 2011/08/16/06:36:40.3\n",
      "1 of 50 solutions flagged due to SNR < 1 in spw=15 at 2011/08/16/06:36:40.3\n",
      "1 of 50 solutions flagged due to SNR < 1 in spw=1 at 2011/08/16/06:37:28.5\n",
      "1 of 50 solutions flagged due to SNR < 1 in spw=9 at 2011/08/16/06:37:28.5\n",
      "1 of 50 solutions flagged due to SNR < 1 in spw=16 at 2011/08/16/06:37:28.5\n",
      "3 of 46 solutions flagged due to SNR < 1 in spw=1 at 2011/08/16/06:39:49.2\n",
      "1 of 46 solutions flagged due to SNR < 1 in spw=3 at 2011/08/16/06:39:49.2\n",
      "1 of 46 solutions flagged due to SNR < 1 in spw=4 at 2011/08/16/06:39:49.2\n",
      "3 of 46 solutions flagged due to SNR < 1 in spw=5 at 2011/08/16/06:39:49.2\n",
      "3 of 46 solutions flagged due to SNR < 1 in spw=6 at 2011/08/16/06:39:49.2\n",
      "2 of 46 solutions flagged due to SNR < 1 in spw=7 at 2011/08/16/06:39:49.2\n",
      "1 of 46 solutions flagged due to SNR < 1 in spw=8 at 2011/08/16/06:39:49.2\n",
      "1 of 46 solutions flagged due to SNR < 1 in spw=9 at 2011/08/16/06:39:49.2\n",
      "1 of 46 solutions flagged due to SNR < 1 in spw=10 at 2011/08/16/06:39:49.2\n",
      "1 of 46 solutions flagged due to SNR < 1 in spw=11 at 2011/08/16/06:39:49.2\n",
      "2 of 46 solutions flagged due to SNR < 1 in spw=14 at 2011/08/16/06:39:49.2\n",
      "1 of 46 solutions flagged due to SNR < 1 in spw=16 at 2011/08/16/06:39:49.2\n",
      "1 of 46 solutions flagged due to SNR < 1 in spw=10 at 2011/08/16/06:40:37.5\n",
      "1 of 46 solutions flagged due to SNR < 1 in spw=16 at 2011/08/16/06:40:37.4\n",
      "NOTICE: Exporting to images in screen resolution is currently not working.  Switching to high resolution (which is slower, but works).\n"
     ]
    },
    {
     "ename": "NameError",
     "evalue": "name 'tb' is not defined",
     "output_type": "error",
     "traceback": [
      "\u001b[0;31m---------------------------------------------------------------------------\u001b[0m",
      "\u001b[0;31mNameError\u001b[0m                                 Traceback (most recent call last)",
      "Cell \u001b[0;32mIn [10], line 14\u001b[0m\n\u001b[1;32m     10\u001b[0m start_image(g_name,field,\u001b[38;5;241m0\u001b[39m,delmodel\u001b[38;5;241m=\u001b[39m\u001b[38;5;28;01mFalse\u001b[39;00m,PLOT\u001b[38;5;241m=\u001b[39m\u001b[38;5;28;01mTrue\u001b[39;00m,niter\u001b[38;5;241m=\u001b[39mniter,\n\u001b[1;32m     11\u001b[0m     interactive\u001b[38;5;241m=\u001b[39minteractive,usemask\u001b[38;5;241m=\u001b[39musemask,datacolumn\u001b[38;5;241m=\u001b[39m\u001b[38;5;124m'\u001b[39m\u001b[38;5;124mdata\u001b[39m\u001b[38;5;124m'\u001b[39m)\n\u001b[1;32m     13\u001b[0m \u001b[38;5;66;03m# check_solutions(g_name,field,calmode='p',combine='scan')\u001b[39;00m\n\u001b[0;32m---> 14\u001b[0m gain_tables_selfcal_temp\u001b[38;5;241m=\u001b[39m\u001b[43mself_gain_cal\u001b[49m\u001b[43m(\u001b[49m\u001b[43mg_name\u001b[49m\u001b[43m,\u001b[49m\u001b[43mfield\u001b[49m\u001b[43m,\u001b[49m\u001b[43mn_interaction\u001b[49m\u001b[38;5;241;43m=\u001b[39;49m\u001b[38;5;241;43m0\u001b[39;49m\u001b[43m,\u001b[49m\n\u001b[1;32m     15\u001b[0m \u001b[43m    \u001b[49m\u001b[43mniter\u001b[49m\u001b[38;5;241;43m=\u001b[39;49m\u001b[43mniter\u001b[49m\u001b[43m,\u001b[49m\n\u001b[1;32m     16\u001b[0m \u001b[43m    \u001b[49m\u001b[43mminsnr\u001b[49m\u001b[43m \u001b[49m\u001b[38;5;241;43m=\u001b[39;49m\u001b[43m \u001b[49m\u001b[38;5;241;43m1.0\u001b[39;49m\u001b[43m,\u001b[49m\u001b[43msolint\u001b[49m\u001b[43m \u001b[49m\u001b[38;5;241;43m=\u001b[39;49m\u001b[43m \u001b[49m\u001b[38;5;124;43m'\u001b[39;49m\u001b[38;5;124;43m240s\u001b[39;49m\u001b[38;5;124;43m'\u001b[39;49m\u001b[43m,\u001b[49m\u001b[43mflagbackup\u001b[49m\u001b[38;5;241;43m=\u001b[39;49m\u001b[38;5;28;43;01mTrue\u001b[39;49;00m\u001b[43m,\u001b[49m\u001b[43mcombine\u001b[49m\u001b[38;5;241;43m=\u001b[39;49m\u001b[38;5;124;43m'\u001b[39;49m\u001b[38;5;124;43m'\u001b[39;49m\u001b[43m,\u001b[49m\n\u001b[1;32m     17\u001b[0m \u001b[43m    \u001b[49m\u001b[43mcalmode\u001b[49m\u001b[38;5;241;43m=\u001b[39;49m\u001b[38;5;124;43m'\u001b[39;49m\u001b[38;5;124;43mp\u001b[39;49m\u001b[38;5;124;43m'\u001b[39;49m\u001b[43m,\u001b[49m\u001b[43maction\u001b[49m\u001b[38;5;241;43m=\u001b[39;49m\u001b[38;5;124;43m'\u001b[39;49m\u001b[38;5;124;43mcalculate\u001b[39;49m\u001b[38;5;124;43m'\u001b[39;49m\u001b[43m,\u001b[49m\u001b[43mPLOT\u001b[49m\u001b[38;5;241;43m=\u001b[39;49m\u001b[38;5;28;43;01mTrue\u001b[39;49;00m\u001b[43m)\u001b[49m\n\u001b[1;32m     19\u001b[0m \u001b[38;5;66;03m# robust = 0.0\u001b[39;00m\n\u001b[1;32m     20\u001b[0m \u001b[38;5;66;03m# image_selfcal(g_name,field,n_interaction=0,interactive=False,usemask=usemask)\u001b[39;00m\n",
      "File \u001b[0;32m/run/media/sagauga/storage_wd_2/cloud/pcloud_void/PhD/GitHub/morphen/selfcal/selfcal.py:707\u001b[0m, in \u001b[0;36mself_gain_cal\u001b[0;34m(g_name, field, n_interaction, gain_tables, combine, solnorm, uvtaper, uvrange, niter, minsnr, solint, gaintype, calmode, action, flagbackup, PLOT)\u001b[0m\n\u001b[1;32m    701\u001b[0m \u001b[38;5;28;01mif\u001b[39;00m calmode\u001b[38;5;241m==\u001b[39m\u001b[38;5;124m'\u001b[39m\u001b[38;5;124map\u001b[39m\u001b[38;5;124m'\u001b[39m:\n\u001b[1;32m    702\u001b[0m     calibration_table_plot(table\u001b[38;5;241m=\u001b[39mcaltable,\n\u001b[1;32m    703\u001b[0m         fields\u001b[38;5;241m=\u001b[39m\u001b[38;5;124m'\u001b[39m\u001b[38;5;124m'\u001b[39m,yaxis\u001b[38;5;241m=\u001b[39m\u001b[38;5;124m'\u001b[39m\u001b[38;5;124mamp\u001b[39m\u001b[38;5;124m'\u001b[39m,\n\u001b[1;32m    704\u001b[0m         table_type\u001b[38;5;241m=\u001b[39m\u001b[38;5;124m'\u001b[39m\u001b[38;5;124mselfcal_ampphase_\u001b[39m\u001b[38;5;124m'\u001b[39m\u001b[38;5;241m+\u001b[39mos\u001b[38;5;241m.\u001b[39mpath\u001b[38;5;241m.\u001b[39mbasename(g_name)\u001b[38;5;241m+\u001b[39m\u001b[38;5;124m'\u001b[39m\u001b[38;5;124m_\u001b[39m\u001b[38;5;124m'\u001b[39m\u001b[38;5;241m+\u001b[39m\u001b[38;5;28mstr\u001b[39m(n_interaction)\u001b[38;5;241m+\u001b[39m\u001b[38;5;124m'\u001b[39m\u001b[38;5;124m_solint_\u001b[39m\u001b[38;5;124m'\u001b[39m\u001b[38;5;241m+\u001b[39msolint\u001b[38;5;241m+\u001b[39m\u001b[38;5;124m'\u001b[39m\u001b[38;5;124m_minsnr_\u001b[39m\u001b[38;5;124m'\u001b[39m\u001b[38;5;241m+\u001b[39m\u001b[38;5;28mstr\u001b[39m(minsnr))\n\u001b[0;32m--> 707\u001b[0m \u001b[43mmake_plot_snr\u001b[49m\u001b[43m(\u001b[49m\u001b[43mcaltable\u001b[49m\u001b[38;5;241;43m=\u001b[39;49m\u001b[43mcaltable\u001b[49m\u001b[43m,\u001b[49m\u001b[43mcut_off\u001b[49m\u001b[38;5;241;43m=\u001b[39;49m\u001b[43mminsnr\u001b[49m\u001b[43m,\u001b[49m\n\u001b[1;32m    708\u001b[0m \u001b[43m    \u001b[49m\u001b[43mplot_snr\u001b[49m\u001b[38;5;241;43m=\u001b[39;49m\u001b[38;5;28;43;01mTrue\u001b[39;49;00m\u001b[43m,\u001b[49m\u001b[43mbins\u001b[49m\u001b[38;5;241;43m=\u001b[39;49m\u001b[38;5;241;43m50\u001b[39;49m\u001b[43m,\u001b[49m\u001b[43mdensity\u001b[49m\u001b[38;5;241;43m=\u001b[39;49m\u001b[38;5;28;43;01mTrue\u001b[39;49;00m\u001b[43m,\u001b[49m\u001b[43msave_fig\u001b[49m\u001b[38;5;241;43m=\u001b[39;49m\u001b[38;5;28;43;01mTrue\u001b[39;49;00m\u001b[43m)\u001b[49m\n\u001b[1;32m    710\u001b[0m \u001b[38;5;28;01mif\u001b[39;00m action\u001b[38;5;241m==\u001b[39m\u001b[38;5;124m'\u001b[39m\u001b[38;5;124mapply\u001b[39m\u001b[38;5;124m'\u001b[39m:\n\u001b[1;32m    711\u001b[0m     \u001b[38;5;28;01mif\u001b[39;00m flagbackup \u001b[38;5;241m==\u001b[39m \u001b[38;5;28;01mTrue\u001b[39;00m:\n",
      "File \u001b[0;32m/run/media/sagauga/storage_wd_2/cloud/pcloud_void/PhD/GitHub/morphen/selfcal/selfcal.py:383\u001b[0m, in \u001b[0;36mmake_plot_snr\u001b[0;34m(caltable, cut_off, plot_snr, bins, density, save_fig)\u001b[0m\n\u001b[1;32m    381\u001b[0m \u001b[38;5;28;01mimport\u001b[39;00m \u001b[38;5;21;01mmatplotlib\u001b[39;00m\u001b[38;5;21;01m.\u001b[39;00m\u001b[38;5;21;01mpyplot\u001b[39;00m \u001b[38;5;28;01mas\u001b[39;00m \u001b[38;5;21;01mplt\u001b[39;00m\n\u001b[1;32m    382\u001b[0m \u001b[38;5;28;01mfrom\u001b[39;00m \u001b[38;5;21;01mscipy\u001b[39;00m \u001b[38;5;28;01mimport\u001b[39;00m stats\n\u001b[0;32m--> 383\u001b[0m snr \u001b[38;5;241m=\u001b[39m \u001b[43mget_tb_data\u001b[49m\u001b[43m(\u001b[49m\u001b[43mcaltable\u001b[49m\u001b[43m,\u001b[49m\u001b[38;5;124;43m'\u001b[39;49m\u001b[38;5;124;43mSNR\u001b[39;49m\u001b[38;5;124;43m'\u001b[39;49m\u001b[43m)\u001b[49m\n\u001b[1;32m    385\u001b[0m \u001b[38;5;28;01mif\u001b[39;00m plot_snr:\n\u001b[1;32m    386\u001b[0m     plt\u001b[38;5;241m.\u001b[39mhist( snr, bins\u001b[38;5;241m=\u001b[39mbins, density\u001b[38;5;241m=\u001b[39mdensity, histtype\u001b[38;5;241m=\u001b[39m\u001b[38;5;124m'\u001b[39m\u001b[38;5;124mstep\u001b[39m\u001b[38;5;124m'\u001b[39m)\n",
      "File \u001b[0;32m/run/media/sagauga/storage_wd_2/cloud/pcloud_void/PhD/GitHub/morphen/selfcal/selfcal.py:372\u001b[0m, in \u001b[0;36mget_tb_data\u001b[0;34m(table, param)\u001b[0m\n\u001b[1;32m    371\u001b[0m \u001b[38;5;28;01mdef\u001b[39;00m \u001b[38;5;21mget_tb_data\u001b[39m(table,param):\n\u001b[0;32m--> 372\u001b[0m     \u001b[43mtb\u001b[49m\u001b[38;5;241m.\u001b[39mopen(table)\n\u001b[1;32m    373\u001b[0m     param_data \u001b[38;5;241m=\u001b[39m tb\u001b[38;5;241m.\u001b[39mgetcol(param)\u001b[38;5;241m.\u001b[39mravel()\n\u001b[1;32m    374\u001b[0m     tb\u001b[38;5;241m.\u001b[39mclose()\n",
      "\u001b[0;31mNameError\u001b[0m: name 'tb' is not defined"
     ]
    }
   ],
   "source": [
    "if '0' in steps:\n",
    "    ############################################################################\n",
    "    #### 0. Zero interaction. Use a small/negative robust parameter,        ####\n",
    "    ####    to find the bright/compact emission(s).                         ####\n",
    "    ############################################################################\n",
    "    robust = 0.0 #decrease more if lots of failed solutions.\n",
    "    niter = 500\n",
    "    threshold = '20.0e-6Jy'\n",
    "\n",
    "    start_image(g_name,field,0,delmodel=False,PLOT=True,niter=niter,\n",
    "        interactive=interactive,usemask=usemask,datacolumn='data')\n",
    "\n",
    "    # check_solutions(g_name,field,calmode='p',combine='scan')\n",
    "    gain_tables_selfcal_temp=self_gain_cal(g_name,field,n_interaction=0,\n",
    "        niter=niter,\n",
    "        minsnr = 1.0,solint = '240s',flagbackup=True,combine='',\n",
    "        calmode='p',action='calculate',PLOT=True)\n",
    "\n",
    "    # robust = 0.0\n",
    "    # image_selfcal(g_name,field,n_interaction=0,interactive=False,usemask=usemask)"
   ]
  },
  {
   "cell_type": "code",
   "execution_count": 11,
   "id": "05d4c98d",
   "metadata": {},
   "outputs": [
    {
     "name": "stdout",
     "output_type": "stream",
     "text": [
      "4 of 44 solutions flagged due to SNR < 1.29999995232 in spw=1 at 2011/06/29/09:42:14.2\n",
      "1 of 44 solutions flagged due to SNR < 1.29999995232 in spw=2 at 2011/06/29/09:42:14.3\n",
      "4 of 46 solutions flagged due to SNR < 1.29999995232 in spw=3 at 2011/06/29/09:42:14.4\n",
      "9 of 46 solutions flagged due to SNR < 1.29999995232 in spw=4 at 2011/06/29/09:42:15.5\n",
      "2 of 46 solutions flagged due to SNR < 1.29999995232 in spw=5 at 2011/06/29/09:42:17.1\n",
      "2 of 44 solutions flagged due to SNR < 1.29999995232 in spw=6 at 2011/06/29/09:42:14.2\n",
      "2 of 44 solutions flagged due to SNR < 1.29999995232 in spw=7 at 2011/06/29/09:42:14.3\n",
      "2 of 44 solutions flagged due to SNR < 1.29999995232 in spw=8 at 2011/06/29/09:42:14.3\n",
      "2 of 44 solutions flagged due to SNR < 1.29999995232 in spw=9 at 2011/06/29/09:42:14.3\n",
      "1 of 44 solutions flagged due to SNR < 1.29999995232 in spw=10 at 2011/06/29/09:42:14.3\n",
      "1 of 46 solutions flagged due to SNR < 1.29999995232 in spw=11 at 2011/06/29/09:42:14.3\n",
      "1 of 44 solutions flagged due to SNR < 1.29999995232 in spw=12 at 2011/06/29/09:42:14.2\n",
      "1 of 46 solutions flagged due to SNR < 1.29999995232 in spw=13 at 2011/06/29/09:42:14.3\n",
      "2 of 44 solutions flagged due to SNR < 1.29999995232 in spw=14 at 2011/06/29/09:42:14.2\n",
      "2 of 46 solutions flagged due to SNR < 1.29999995232 in spw=15 at 2011/06/29/09:42:14.3\n",
      "2 of 46 solutions flagged due to SNR < 1.29999995232 in spw=16 at 2011/06/29/09:42:14.2\n",
      "1 of 48 solutions flagged due to SNR < 1.29999995232 in spw=1 at 2011/06/29/09:43:02.2\n",
      " Insufficient unflagged antennas to proceed with this solve.\n",
      "   (time=2011/06/29/09:42:35.8 field=0 spw=3 chan=0)\n",
      "1 of 48 solutions flagged due to SNR < 1.29999995232 in spw=3 at 2011/06/29/09:43:02.1\n",
      " Insufficient unflagged antennas to proceed with this solve.\n",
      "   (time=2011/06/29/09:42:35.8 field=0 spw=4 chan=0)\n",
      " Insufficient unflagged antennas to proceed with this solve.\n",
      "   (time=2011/06/29/09:42:35.7 field=0 spw=5 chan=0)\n",
      "1 of 46 solutions flagged due to SNR < 1.29999995232 in spw=6 at 2011/06/29/09:43:02.0\n",
      "1 of 46 solutions flagged due to SNR < 1.29999995232 in spw=8 at 2011/06/29/09:43:02.0\n",
      " Insufficient unflagged antennas to proceed with this solve.\n",
      "   (time=2011/06/29/09:42:36.0 field=0 spw=9 chan=0)\n",
      "3 of 46 solutions flagged due to SNR < 1.29999995232 in spw=9 at 2011/06/29/09:43:02.3\n",
      "2 of 46 solutions flagged due to SNR < 1.29999995232 in spw=10 at 2011/06/29/09:43:02.0\n",
      " Insufficient unflagged antennas to proceed with this solve.\n",
      "   (time=2011/06/29/09:42:35.9 field=0 spw=11 chan=0)\n",
      " Insufficient unflagged antennas to proceed with this solve.\n",
      "   (time=2011/06/29/09:42:36.0 field=0 spw=13 chan=0)\n",
      " Insufficient unflagged antennas to proceed with this solve.\n",
      "   (time=2011/06/29/09:42:36.0 field=0 spw=15 chan=0)\n",
      "1 of 48 solutions flagged due to SNR < 1.29999995232 in spw=15 at 2011/06/29/09:43:02.3\n",
      " Insufficient unflagged antennas to proceed with this solve.\n",
      "   (time=2011/06/29/09:42:35.9 field=0 spw=16 chan=0)\n",
      "3 of 48 solutions flagged due to SNR < 1.29999995232 in spw=16 at 2011/06/29/09:43:02.2\n",
      "1 of 46 solutions flagged due to SNR < 1.29999995232 in spw=1 at 2011/06/29/09:45:23.4\n",
      "1 of 46 solutions flagged due to SNR < 1.29999995232 in spw=2 at 2011/06/29/09:45:23.4\n",
      "3 of 46 solutions flagged due to SNR < 1.29999995232 in spw=3 at 2011/06/29/09:45:23.6\n",
      "1 of 46 solutions flagged due to SNR < 1.29999995232 in spw=4 at 2011/06/29/09:45:23.4\n",
      "5 of 48 solutions flagged due to SNR < 1.29999995232 in spw=5 at 2011/06/29/09:45:22.9\n",
      "4 of 46 solutions flagged due to SNR < 1.29999995232 in spw=7 at 2011/06/29/09:45:23.4\n",
      "1 of 46 solutions flagged due to SNR < 1.29999995232 in spw=8 at 2011/06/29/09:45:23.3\n",
      "5 of 46 solutions flagged due to SNR < 1.29999995232 in spw=9 at 2011/06/29/09:45:24.0\n",
      "1 of 46 solutions flagged due to SNR < 1.29999995232 in spw=10 at 2011/06/29/09:45:23.4\n",
      "1 of 48 solutions flagged due to SNR < 1.29999995232 in spw=13 at 2011/06/29/09:45:22.8\n",
      "1 of 46 solutions flagged due to SNR < 1.29999995232 in spw=14 at 2011/06/29/09:45:23.3\n",
      "4 of 48 solutions flagged due to SNR < 1.29999995232 in spw=16 at 2011/06/29/09:45:23.3\n",
      "1 of 48 solutions flagged due to SNR < 1.29999995232 in spw=1 at 2011/06/29/09:46:11.4\n",
      " Insufficient unflagged antennas to proceed with this solve.\n",
      "   (time=2011/06/29/09:45:45.5 field=0 spw=3 chan=0)\n",
      " Insufficient unflagged antennas to proceed with this solve.\n",
      "   (time=2011/06/29/09:45:45.5 field=0 spw=4 chan=0)\n",
      "1 of 46 solutions flagged due to SNR < 1.29999995232 in spw=6 at 2011/06/29/09:46:11.5\n",
      " Insufficient unflagged antennas to proceed with this solve.\n",
      "   (time=2011/06/29/09:45:45.5 field=0 spw=9 chan=0)\n",
      "2 of 46 solutions flagged due to SNR < 1.29999995232 in spw=9 at 2011/06/29/09:46:12.1\n",
      " Insufficient unflagged antennas to proceed with this solve.\n",
      "   (time=2011/06/29/09:45:45.5 field=0 spw=11 chan=0)\n",
      "1 of 48 solutions flagged due to SNR < 1.29999995232 in spw=11 at 2011/06/29/09:46:11.4\n",
      " Insufficient unflagged antennas to proceed with this solve.\n",
      "   (time=2011/06/29/09:45:45.5 field=0 spw=13 chan=0)\n",
      "1 of 48 solutions flagged due to SNR < 1.29999995232 in spw=13 at 2011/06/29/09:46:11.4\n",
      " Insufficient unflagged antennas to proceed with this solve.\n",
      "   (time=2011/06/29/09:45:45.5 field=0 spw=15 chan=0)\n",
      "1 of 48 solutions flagged due to SNR < 1.29999995232 in spw=15 at 2011/06/29/09:46:11.6\n",
      " Insufficient unflagged antennas to proceed with this solve.\n",
      "   (time=2011/06/29/09:45:45.5 field=0 spw=16 chan=0)\n",
      "1 of 48 solutions flagged due to SNR < 1.29999995232 in spw=16 at 2011/06/29/09:46:11.7\n",
      "10 of 52 solutions flagged due to SNR < 1.29999995232 in spw=1 at 2011/06/29/09:48:32.1\n",
      "4 of 50 solutions flagged due to SNR < 1.29999995232 in spw=4 at 2011/06/29/09:48:33.3\n",
      "3 of 50 solutions flagged due to SNR < 1.29999995232 in spw=5 at 2011/06/29/09:48:33.2\n",
      "1 of 50 solutions flagged due to SNR < 1.29999995232 in spw=6 at 2011/06/29/09:48:33.3\n",
      "1 of 50 solutions flagged due to SNR < 1.29999995232 in spw=7 at 2011/06/29/09:48:33.2\n",
      "2 of 50 solutions flagged due to SNR < 1.29999995232 in spw=8 at 2011/06/29/09:48:33.2\n",
      "1 of 46 solutions flagged due to SNR < 1.29999995232 in spw=9 at 2011/06/29/09:48:33.3\n",
      "1 of 48 solutions flagged due to SNR < 1.29999995232 in spw=10 at 2011/06/29/09:48:33.2\n",
      "1 of 50 solutions flagged due to SNR < 1.29999995232 in spw=14 at 2011/06/29/09:48:33.3\n",
      "1 of 50 solutions flagged due to SNR < 1.29999995232 in spw=15 at 2011/06/29/09:48:33.3\n",
      "5 of 50 solutions flagged due to SNR < 1.29999995232 in spw=16 at 2011/06/29/09:48:33.2\n",
      " Insufficient unflagged antennas to proceed with this solve.\n",
      "   (time=2011/06/29/09:48:55.5 field=0 spw=1 chan=0)\n",
      "4 of 52 solutions flagged due to SNR < 1.29999995232 in spw=1 at 2011/06/29/09:49:21.7\n",
      "1 of 50 solutions flagged due to SNR < 1.29999995232 in spw=2 at 2011/06/29/09:49:21.5\n",
      "2 of 50 solutions flagged due to SNR < 1.29999995232 in spw=4 at 2011/06/29/09:49:21.5\n",
      "2 of 50 solutions flagged due to SNR < 1.29999995232 in spw=5 at 2011/06/29/09:49:21.5\n",
      "2 of 50 solutions flagged due to SNR < 1.29999995232 in spw=8 at 2011/06/29/09:49:21.5\n",
      "1 of 46 solutions flagged due to SNR < 1.29999995232 in spw=9 at 2011/06/29/09:49:21.1\n",
      "1 of 50 solutions flagged due to SNR < 1.29999995232 in spw=11 at 2011/06/29/09:49:21.5\n",
      "5 of 50 solutions flagged due to SNR < 1.29999995232 in spw=1 at 2011/07/05/09:18:36.8\n",
      "1 of 50 solutions flagged due to SNR < 1.29999995232 in spw=2 at 2011/07/05/09:18:36.9\n",
      "3 of 50 solutions flagged due to SNR < 1.29999995232 in spw=3 at 2011/07/05/09:18:36.7\n",
      "1 of 50 solutions flagged due to SNR < 1.29999995232 in spw=4 at 2011/07/05/09:18:36.8\n",
      "6 of 50 solutions flagged due to SNR < 1.29999995232 in spw=5 at 2011/07/05/09:18:36.8\n",
      "3 of 50 solutions flagged due to SNR < 1.29999995232 in spw=6 at 2011/07/05/09:18:36.8\n",
      "4 of 50 solutions flagged due to SNR < 1.29999995232 in spw=7 at 2011/07/05/09:18:36.7\n",
      "6 of 50 solutions flagged due to SNR < 1.29999995232 in spw=8 at 2011/07/05/09:18:36.8\n",
      "7 of 48 solutions flagged due to SNR < 1.29999995232 in spw=9 at 2011/07/05/09:18:36.9\n",
      "3 of 48 solutions flagged due to SNR < 1.29999995232 in spw=10 at 2011/07/05/09:18:36.4\n",
      "1 of 52 solutions flagged due to SNR < 1.29999995232 in spw=11 at 2011/07/05/09:18:36.8\n",
      "1 of 50 solutions flagged due to SNR < 1.29999995232 in spw=13 at 2011/07/05/09:18:36.8\n",
      "9 of 52 solutions flagged due to SNR < 1.29999995232 in spw=14 at 2011/07/05/09:18:35.4\n",
      "4 of 50 solutions flagged due to SNR < 1.29999995232 in spw=15 at 2011/07/05/09:18:32.8\n"
     ]
    },
    {
     "name": "stdout",
     "output_type": "stream",
     "text": [
      "3 of 50 solutions flagged due to SNR < 1.29999995232 in spw=16 at 2011/07/05/09:18:36.0\n",
      "1 of 52 solutions flagged due to SNR < 1.29999995232 in spw=5 at 2011/07/05/09:19:24.5\n",
      "1 of 52 solutions flagged due to SNR < 1.29999995232 in spw=6 at 2011/07/05/09:19:24.5\n",
      " Insufficient unflagged antennas to proceed with this solve.\n",
      "   (time=2011/07/05/09:18:58.5 field=0 spw=7 chan=0)\n",
      "6 of 52 solutions flagged due to SNR < 1.29999995232 in spw=8 at 2011/07/05/09:19:24.5\n",
      " Insufficient unflagged antennas to proceed with this solve.\n",
      "   (time=2011/07/05/09:18:58.5 field=0 spw=11 chan=0)\n",
      "2 of 54 solutions flagged due to SNR < 1.29999995232 in spw=11 at 2011/07/05/09:19:24.4\n",
      "1 of 52 solutions flagged due to SNR < 1.29999995232 in spw=13 at 2011/07/05/09:19:24.5\n",
      "1 of 54 solutions flagged due to SNR < 1.29999995232 in spw=14 at 2011/07/05/09:19:24.6\n",
      "2 of 52 solutions flagged due to SNR < 1.29999995232 in spw=16 at 2011/07/05/09:19:24.6\n",
      "1 of 48 solutions flagged due to SNR < 1.29999995232 in spw=1 at 2011/07/05/09:21:46.3\n",
      "4 of 48 solutions flagged due to SNR < 1.29999995232 in spw=2 at 2011/07/05/09:21:46.3\n",
      "1 of 48 solutions flagged due to SNR < 1.29999995232 in spw=3 at 2011/07/05/09:21:46.4\n",
      "2 of 48 solutions flagged due to SNR < 1.29999995232 in spw=4 at 2011/07/05/09:21:46.3\n",
      "3 of 48 solutions flagged due to SNR < 1.29999995232 in spw=5 at 2011/07/05/09:21:46.3\n",
      "3 of 48 solutions flagged due to SNR < 1.29999995232 in spw=7 at 2011/07/05/09:21:46.3\n",
      "3 of 48 solutions flagged due to SNR < 1.29999995232 in spw=8 at 2011/07/05/09:21:46.3\n",
      "8 of 46 solutions flagged due to SNR < 1.29999995232 in spw=9 at 2011/07/05/09:21:46.1\n",
      "4 of 46 solutions flagged due to SNR < 1.29999995232 in spw=10 at 2011/07/05/09:21:46.2\n",
      "3 of 48 solutions flagged due to SNR < 1.29999995232 in spw=11 at 2011/07/05/09:21:40.6\n",
      "3 of 40 solutions flagged due to SNR < 1.29999995232 in spw=12 at 2011/07/05/09:21:46.3\n",
      "2 of 48 solutions flagged due to SNR < 1.29999995232 in spw=13 at 2011/07/05/09:21:46.4\n",
      "2 of 48 solutions flagged due to SNR < 1.29999995232 in spw=14 at 2011/07/05/09:21:46.4\n",
      "3 of 46 solutions flagged due to SNR < 1.29999995232 in spw=15 at 2011/07/05/09:21:46.2\n",
      "2 of 46 solutions flagged due to SNR < 1.29999995232 in spw=16 at 2011/07/05/09:21:46.3\n",
      "2 of 50 solutions flagged due to SNR < 1.29999995232 in spw=1 at 2011/07/05/09:22:34.5\n",
      "3 of 50 solutions flagged due to SNR < 1.29999995232 in spw=4 at 2011/07/05/09:22:34.5\n",
      "1 of 50 solutions flagged due to SNR < 1.29999995232 in spw=5 at 2011/07/05/09:22:34.5\n",
      "1 of 50 solutions flagged due to SNR < 1.29999995232 in spw=6 at 2011/07/05/09:22:34.5\n",
      " Insufficient unflagged antennas to proceed with this solve.\n",
      "   (time=2011/07/05/09:22:08.5 field=0 spw=9 chan=0)\n",
      "1 of 48 solutions flagged due to SNR < 1.29999995232 in spw=9 at 2011/07/05/09:22:34.8\n",
      " Insufficient unflagged antennas to proceed with this solve.\n",
      "   (time=2011/07/05/09:22:08.5 field=0 spw=11 chan=0)\n",
      "1 of 50 solutions flagged due to SNR < 1.29999995232 in spw=14 at 2011/07/05/09:22:34.5\n",
      "4 of 50 solutions flagged due to SNR < 1.29999995232 in spw=1 at 2011/07/05/09:24:55.5\n",
      "2 of 50 solutions flagged due to SNR < 1.29999995232 in spw=2 at 2011/07/05/09:24:55.5\n",
      "1 of 50 solutions flagged due to SNR < 1.29999995232 in spw=3 at 2011/07/05/09:24:55.5\n",
      "1 of 50 solutions flagged due to SNR < 1.29999995232 in spw=4 at 2011/07/05/09:24:55.5\n",
      "6 of 50 solutions flagged due to SNR < 1.29999995232 in spw=5 at 2011/07/05/09:24:55.5\n",
      "2 of 50 solutions flagged due to SNR < 1.29999995232 in spw=6 at 2011/07/05/09:24:55.5\n",
      "2 of 50 solutions flagged due to SNR < 1.29999995232 in spw=7 at 2011/07/05/09:24:55.5\n",
      "4 of 50 solutions flagged due to SNR < 1.29999995232 in spw=8 at 2011/07/05/09:24:55.5\n",
      "4 of 48 solutions flagged due to SNR < 1.29999995232 in spw=9 at 2011/07/05/09:24:55.4\n",
      "3 of 48 solutions flagged due to SNR < 1.29999995232 in spw=10 at 2011/07/05/09:24:55.4\n",
      "1 of 50 solutions flagged due to SNR < 1.29999995232 in spw=13 at 2011/07/05/09:24:55.5\n",
      "2 of 48 solutions flagged due to SNR < 1.29999995232 in spw=16 at 2011/07/05/09:24:55.5\n",
      "1 of 50 solutions flagged due to SNR < 1.29999995232 in spw=4 at 2011/07/05/09:25:43.5\n",
      "2 of 50 solutions flagged due to SNR < 1.29999995232 in spw=5 at 2011/07/05/09:25:43.5\n",
      "1 of 50 solutions flagged due to SNR < 1.29999995232 in spw=8 at 2011/07/05/09:25:43.5\n",
      "3 of 48 solutions flagged due to SNR < 1.29999995232 in spw=9 at 2011/07/05/09:25:43.1\n",
      "2 of 50 solutions flagged due to SNR < 1.29999995232 in spw=14 at 2011/07/05/09:25:43.5\n",
      "1 of 48 solutions flagged due to SNR < 1.29999995232 in spw=16 at 2011/07/05/09:25:43.5\n",
      "3 of 50 solutions flagged due to SNR < 1.29999995232 in spw=1 at 2011/08/16/06:33:30.5\n",
      "1 of 50 solutions flagged due to SNR < 1.29999995232 in spw=2 at 2011/08/16/06:33:30.5\n",
      "1 of 50 solutions flagged due to SNR < 1.29999995232 in spw=3 at 2011/08/16/06:33:30.5\n",
      "1 of 50 solutions flagged due to SNR < 1.29999995232 in spw=4 at 2011/08/16/06:33:30.5\n",
      "2 of 50 solutions flagged due to SNR < 1.29999995232 in spw=5 at 2011/08/16/06:33:30.6\n",
      "2 of 50 solutions flagged due to SNR < 1.29999995232 in spw=6 at 2011/08/16/06:33:30.5\n",
      "1 of 50 solutions flagged due to SNR < 1.29999995232 in spw=8 at 2011/08/16/06:33:30.5\n",
      "4 of 50 solutions flagged due to SNR < 1.29999995232 in spw=9 at 2011/08/16/06:33:30.6\n",
      "2 of 50 solutions flagged due to SNR < 1.29999995232 in spw=10 at 2011/08/16/06:33:30.5\n",
      "2 of 50 solutions flagged due to SNR < 1.29999995232 in spw=11 at 2011/08/16/06:33:30.5\n",
      "5 of 50 solutions flagged due to SNR < 1.29999995232 in spw=13 at 2011/08/16/06:33:30.5\n",
      "2 of 50 solutions flagged due to SNR < 1.29999995232 in spw=16 at 2011/08/16/06:33:30.5\n",
      "2 of 50 solutions flagged due to SNR < 1.29999995232 in spw=1 at 2011/08/16/06:34:18.5\n",
      "1 of 50 solutions flagged due to SNR < 1.29999995232 in spw=5 at 2011/08/16/06:34:18.5\n",
      "1 of 50 solutions flagged due to SNR < 1.29999995232 in spw=8 at 2011/08/16/06:34:18.5\n",
      "1 of 50 solutions flagged due to SNR < 1.29999995232 in spw=12 at 2011/08/16/06:34:18.5\n",
      "2 of 50 solutions flagged due to SNR < 1.29999995232 in spw=1 at 2011/08/16/06:36:40.3\n",
      "2 of 50 solutions flagged due to SNR < 1.29999995232 in spw=2 at 2011/08/16/06:36:40.3\n",
      "3 of 50 solutions flagged due to SNR < 1.29999995232 in spw=4 at 2011/08/16/06:36:40.3\n",
      "4 of 50 solutions flagged due to SNR < 1.29999995232 in spw=5 at 2011/08/16/06:36:40.3\n",
      "2 of 50 solutions flagged due to SNR < 1.29999995232 in spw=6 at 2011/08/16/06:36:40.3\n",
      "2 of 50 solutions flagged due to SNR < 1.29999995232 in spw=7 at 2011/08/16/06:36:40.4\n",
      "2 of 50 solutions flagged due to SNR < 1.29999995232 in spw=8 at 2011/08/16/06:36:40.3\n",
      "3 of 50 solutions flagged due to SNR < 1.29999995232 in spw=9 at 2011/08/16/06:36:40.3\n",
      "1 of 50 solutions flagged due to SNR < 1.29999995232 in spw=10 at 2011/08/16/06:36:40.2\n",
      "1 of 50 solutions flagged due to SNR < 1.29999995232 in spw=13 at 2011/08/16/06:36:40.3\n",
      "2 of 50 solutions flagged due to SNR < 1.29999995232 in spw=14 at 2011/08/16/06:36:40.3\n",
      "1 of 50 solutions flagged due to SNR < 1.29999995232 in spw=15 at 2011/08/16/06:36:40.3\n",
      "1 of 50 solutions flagged due to SNR < 1.29999995232 in spw=1 at 2011/08/16/06:37:28.5\n",
      "1 of 50 solutions flagged due to SNR < 1.29999995232 in spw=4 at 2011/08/16/06:37:28.5\n",
      "1 of 50 solutions flagged due to SNR < 1.29999995232 in spw=8 at 2011/08/16/06:37:28.5\n",
      "2 of 50 solutions flagged due to SNR < 1.29999995232 in spw=9 at 2011/08/16/06:37:28.5\n",
      "1 of 50 solutions flagged due to SNR < 1.29999995232 in spw=10 at 2011/08/16/06:37:28.5\n",
      "1 of 50 solutions flagged due to SNR < 1.29999995232 in spw=16 at 2011/08/16/06:37:28.5\n",
      "6 of 46 solutions flagged due to SNR < 1.29999995232 in spw=1 at 2011/08/16/06:39:49.2\n",
      "1 of 46 solutions flagged due to SNR < 1.29999995232 in spw=2 at 2011/08/16/06:39:49.3\n",
      "1 of 46 solutions flagged due to SNR < 1.29999995232 in spw=3 at 2011/08/16/06:39:49.2\n",
      "3 of 46 solutions flagged due to SNR < 1.29999995232 in spw=4 at 2011/08/16/06:39:49.2\n",
      "4 of 46 solutions flagged due to SNR < 1.29999995232 in spw=5 at 2011/08/16/06:39:49.2\n",
      "3 of 46 solutions flagged due to SNR < 1.29999995232 in spw=6 at 2011/08/16/06:39:49.2\n",
      "3 of 46 solutions flagged due to SNR < 1.29999995232 in spw=7 at 2011/08/16/06:39:49.2\n",
      "1 of 46 solutions flagged due to SNR < 1.29999995232 in spw=8 at 2011/08/16/06:39:49.2\n"
     ]
    },
    {
     "name": "stdout",
     "output_type": "stream",
     "text": [
      "3 of 46 solutions flagged due to SNR < 1.29999995232 in spw=9 at 2011/08/16/06:39:49.2\n",
      "2 of 46 solutions flagged due to SNR < 1.29999995232 in spw=10 at 2011/08/16/06:39:49.2\n",
      "1 of 46 solutions flagged due to SNR < 1.29999995232 in spw=11 at 2011/08/16/06:39:49.2\n",
      "1 of 46 solutions flagged due to SNR < 1.29999995232 in spw=12 at 2011/08/16/06:39:49.2\n",
      "3 of 46 solutions flagged due to SNR < 1.29999995232 in spw=14 at 2011/08/16/06:39:49.2\n",
      "1 of 46 solutions flagged due to SNR < 1.29999995232 in spw=16 at 2011/08/16/06:39:49.2\n",
      "2 of 46 solutions flagged due to SNR < 1.29999995232 in spw=5 at 2011/08/16/06:40:37.6\n",
      "1 of 46 solutions flagged due to SNR < 1.29999995232 in spw=10 at 2011/08/16/06:40:37.5\n",
      "1 of 46 solutions flagged due to SNR < 1.29999995232 in spw=16 at 2011/08/16/06:40:37.4\n"
     ]
    },
    {
     "name": "stderr",
     "output_type": "stream",
     "text": [
      "No artists with labels found to put in legend.  Note that artists whose label start with an underscore are ignored when legend() is called with no argument.\n"
     ]
    },
    {
     "name": "stdout",
     "output_type": "stream",
     "text": [
      "NOTICE: Exporting to images in screen resolution is currently not working.  Switching to high resolution (which is slower, but works).\n",
      "P(<=1.3) = 15.935019841269842  ()\n",
      "     => Creating new flagbackup file before mode  p  selfcal ...\n"
     ]
    },
    {
     "name": "stderr",
     "output_type": "stream",
     "text": [
      "2023-07-17 14:46:46\tWARN\tflagmanager::::casa\tVersion name 'before_selfcal_mode_p' already exist. Will rename it to before_selfcal_mode_p.old.1689605206\n"
     ]
    },
    {
     "name": "stdout",
     "output_type": "stream",
     "text": [
      "     => Reporting data flagged before selfcal apply interaction 0 ...\n",
      "field CGCG448-020:  41.7 percent flagged\n",
      "The following MS spws have no corresponding cal spws in 0_selfcal_phase_interactive_CGCG448-020.AL746_combined.calibrated.avg8s__solint_inf_minsnr_1.3.tb: 0 \n",
      "     => Reporting data flagged after selfcal apply interaction 0 ...\n",
      "field CGCG448-020:  49.9 percent flagged\n"
     ]
    }
   ],
   "source": [
    "if '0' in steps:\n",
    "    # check_solutions(g_name,field,calmode='p',combine='scan')\n",
    "    robust = 0.0 #decrease more if lots of failed solutions.\n",
    "    niter = 500\n",
    "    refant = 'ea28'\n",
    "    threshold = '20.0e-6Jy'\n",
    "    gain_tables_selfcal_temp=self_gain_cal(g_name,field,n_interaction=0,\n",
    "        niter=niter,\n",
    "        minsnr = 1.3,solint = 'inf',flagbackup=True,combine='',\n",
    "        calmode='p',action='apply',PLOT=False)\n",
    "\n",
    "    # robust = 0.0\n",
    "    # image_selfcal(g_name,field,n_interaction=0,interactive=False,usemask=usemask)"
   ]
  },
  {
   "cell_type": "code",
   "execution_count": 13,
   "id": "906ed25f",
   "metadata": {},
   "outputs": [],
   "source": [
    "plotms(vis=gain_tables_selfcal_temp[0],yaxis='phase',xaxis='time',coloraxis='spw')"
   ]
  },
  {
   "cell_type": "code",
   "execution_count": 14,
   "id": "b7c127fd",
   "metadata": {},
   "outputs": [
    {
     "data": {
      "text/plain": [
       "['selfcal/0_selfcal_phase_interactive_CGCG448-020.AL746_combined.calibrated.avg8s__solint_inf_minsnr_1.3.tb']"
      ]
     },
     "execution_count": 14,
     "metadata": {},
     "output_type": "execute_result"
    }
   ],
   "source": [
    "gain_tables_selfcal_temp"
   ]
  },
  {
   "cell_type": "code",
   "execution_count": 15,
   "id": "1dbd39b9",
   "metadata": {},
   "outputs": [],
   "source": [
    "steps=['1']"
   ]
  },
  {
   "cell_type": "code",
   "execution_count": 16,
   "id": "e7c68421",
   "metadata": {},
   "outputs": [
    {
     "name": "stderr",
     "output_type": "stream",
     "text": [
      "\n",
      "0%....10....20....30....40....50....60....70....80....90....100%\n",
      "\n",
      "0%....10....20....30....40....50....60....70....80....90....100%\n",
      "Qt: Session management error: Authentication Rejected, reason : None of the authentication protocols specified are supported and host-based authentication failed\n",
      "unreasonably large dimensions...\n",
      "\n",
      "0%....10....20....30....40....50....60....70....80....90....100%\n",
      "\n",
      "0%....10....20....30....40....50....60....70....80....90....100%\n",
      "\n",
      "0%....10....20....30....40....50....60....70....80....90....100%\n",
      "\n",
      "0%....10....20....30....40....50....60....70....80....90....100%\n",
      "\n",
      "0%....10....20....30....40....50....60....70....80....90....100%\n",
      "\n",
      "0%....10....20....30....40....50....60....70....80....90....100%\n",
      "\n",
      "0%....10....20....30....40....50....60....70....80....90....100%\n"
     ]
    },
    {
     "name": "stdout",
     "output_type": "stream",
     "text": [
      "NOTICE: Exporting to images in screen resolution is currently not working.  Switching to high resolution (which is slower, but works).\n",
      "NOTICE: Exporting to images in screen resolution is currently not working.  Switching to high resolution (which is slower, but works).\n",
      "NOTICE: Exporting to images in screen resolution is currently not working.  Switching to high resolution (which is slower, but works).\n",
      "NOTICE: Exporting to images in screen resolution is currently not working.  Switching to high resolution (which is slower, but works).\n",
      "NOTICE: Exporting to images in screen resolution is currently not working.  Switching to high resolution (which is slower, but works).\n",
      "NOTICE: Exporting to images in screen resolution is currently not working.  Switching to high resolution (which is slower, but works).\n",
      "NOTICE: Exporting to images in screen resolution is currently not working.  Switching to high resolution (which is slower, but works).\n",
      "NOTICE: Exporting to images in screen resolution is currently not working.  Switching to high resolution (which is slower, but works).\n",
      "NOTICE: Exporting to images in screen resolution is currently not working.  Switching to high resolution (which is slower, but works).\n",
      "NOTICE: Exporting to images in screen resolution is currently not working.  Switching to high resolution (which is slower, but works).\n",
      "(0) waiting for viewer process...\n",
      "(1) waiting for viewer process...\n",
      "(2) waiting for viewer process...\n",
      "(3) waiting for viewer process...\n"
     ]
    },
    {
     "name": "stderr",
     "output_type": "stream",
     "text": [
      "Qt: Session management error: Authentication Rejected, reason : None of the authentication protocols specified are supported and host-based authentication failed\n"
     ]
    },
    {
     "name": "stdout",
     "output_type": "stream",
     "text": [
      "(4) waiting for viewer process...\n",
      "\t...{'id': 'casaviewer:bd47', 'priority': 0, 'types': array(['shutdown', 'image-view', 'interactive-clean'], dtype='<U18'), 'uri': '0.0.0.0:34833'}\n"
     ]
    },
    {
     "name": "stderr",
     "output_type": "stream",
     "text": [
      "E0717 16:20:48.932551969    6342 call.cc:896]                Invalid entry in accept encoding metadata: ' deflate'. Ignoring.\n",
      "E0717 16:20:48.932630077    6342 call.cc:896]                Invalid entry in accept encoding metadata: ' gzip'. Ignoring.\n",
      "unreasonably large dimensions...\n"
     ]
    },
    {
     "name": "stdout",
     "output_type": "stream",
     "text": [
      " Image (update) Statistics:\n",
      " Flux=0.00437 Jy/Beam\n",
      " Flux peak (image)=0.00201 Jy Flux peak (residual)=0.00007 Jy\n",
      " flux_im/sigma_im=140.80081 flux_im/sigma_re=363.12528\n",
      " rms_im=0.00003 rms_re=0.00001\n",
      " flux_peak_im/rms_im=64.89537 flux_peak_re/rms_re=5.92244\n",
      " sumsq_im/sumsq_re=6.65124\n"
     ]
    }
   ],
   "source": [
    "if '1' in steps:\n",
    "    ############################################################################\n",
    "    #### 1. First interaction. Increase a little the robust parameter,      ####\n",
    "    ####    start to consider more extended emission.                       ####\n",
    "    ############################################################################\n",
    "    threshold = '5.0e-6Jy'\n",
    "    niter = 800\n",
    "    robust = 0.5 #or 0.5 if lots of extended emission.\n",
    "    \n",
    "    update_model_image(g_name,field,n_interaction=1,interactive=interactive,\n",
    "        uvtaper=[],niter=niter,usemask=usemask,PLOT=True)\n"
   ]
  },
  {
   "cell_type": "markdown",
   "id": "b60c1e5c",
   "metadata": {},
   "source": [
    "Usually, the first table (calculated with solint=`inf`) can be ignored. We may proceed with the 1st 'valid' self-calibration iteration, where we can select again `solint='inf'` or finite larger solution interval, e.g. `solint = '240s'`. The choice will depend heavily on your data. You can use `action = 'calculate'` below to see the amount of data flagged given a particular solution interval."
   ]
  },
  {
   "cell_type": "code",
   "execution_count": 22,
   "id": "c0232099",
   "metadata": {},
   "outputs": [
    {
     "name": "stdout",
     "output_type": "stream",
     "text": [
      " => Using existing caltable with same parameters asked.\n",
      " => Not computing again...\n"
     ]
    },
    {
     "name": "stderr",
     "output_type": "stream",
     "text": [
      "No artists with labels found to put in legend.  Note that artists whose label start with an underscore are ignored when legend() is called with no argument.\n"
     ]
    },
    {
     "name": "stdout",
     "output_type": "stream",
     "text": [
      "NOTICE: Exporting to images in screen resolution is currently not working.  Switching to high resolution (which is slower, but works).\n"
     ]
    },
    {
     "name": "stderr",
     "output_type": "stream",
     "text": [
      "2023-07-17 15:24:46\tWARN\tflagmanager::::casa\tVersion name 'before_selfcal_mode_p' already exist. Will rename it to before_selfcal_mode_p.old.1689607486\n"
     ]
    },
    {
     "name": "stdout",
     "output_type": "stream",
     "text": [
      "P(<=1.5) = 20.052083333333332  ()\n",
      "     => Creating new flagbackup file before mode  p  selfcal ...\n",
      "     => Reporting data flagged before selfcal apply interaction 1 ...\n",
      "field CGCG448-020:  49.9 percent flagged\n",
      "The following MS spws have no corresponding cal spws in 1_selfcal_phase_interactive_CGCG448-020.AL746_combined.calibrated.avg8s__solint_180s_minsnr_1.5.tb: 0 \n",
      "     => Reporting data flagged after selfcal apply interaction 1 ...\n",
      "field CGCG448-020:  56.1 percent flagged\n",
      "NOTICE: Exporting to images in screen resolution is currently not working.  Switching to high resolution (which is slower, but works).\n",
      "NOTICE: Exporting to images in screen resolution is currently not working.  Switching to high resolution (which is slower, but works).\n",
      "NOTICE: Exporting to images in screen resolution is currently not working.  Switching to high resolution (which is slower, but works).\n",
      "NOTICE: Exporting to images in screen resolution is currently not working.  Switching to high resolution (which is slower, but works).\n",
      "NOTICE: Exporting to images in screen resolution is currently not working.  Switching to high resolution (which is slower, but works).\n",
      "NOTICE: Exporting to images in screen resolution is currently not working.  Switching to high resolution (which is slower, but works).\n",
      "NOTICE: Exporting to images in screen resolution is currently not working.  Switching to high resolution (which is slower, but works).\n"
     ]
    }
   ],
   "source": [
    "if '1' in steps:\n",
    "    ############################################################################\n",
    "    #### 1. First interaction. Increase a little the robust parameter,      ####\n",
    "    ####    start to consider more extended emission.                       ####\n",
    "    ############################################################################\n",
    "    threshold = '5.0e-6Jy'\n",
    "    niter = 800\n",
    "    robust = 0.5 #or 0.5 if lots of extended emission.\n",
    "\n",
    "    gain_tables_selfcal_temp=self_gain_cal(g_name,field,n_interaction=1,\n",
    "        minsnr = 1.5,solint = '180s',flagbackup=True,\n",
    "        gain_tables=[],calmode='p',gaintype='T',\n",
    "        action='apply',PLOT=True)\n",
    "\n",
    "\n",
    "#     os.environ['SAVE_ALL_AUTOMASKS']=\"true\"\n",
    "    # mask = 'selfcal/1_update_model_image_interactive_VV705_AL746_fix_combined_1024_0.05arcsec_500.briggs.mfs.mtmfs.standard.mask'\n",
    "    # image_selfcal(g_name,field,n_interaction=1,interactive=True,\n",
    "        # usemask=usemask,mask=mask)\n",
    "    # image_selfcal(g_name,field,n_interaction='1',niter = 3000,interactive=True,usemask=usemask)"
   ]
  },
  {
   "cell_type": "code",
   "execution_count": 23,
   "id": "f5510fc1",
   "metadata": {},
   "outputs": [
    {
     "data": {
      "text/plain": [
       "['selfcal/1_selfcal_phase_interactive_CGCG448-020.AL746_combined.calibrated.avg8s__solint_180s_minsnr_1.5.tb']"
      ]
     },
     "execution_count": 23,
     "metadata": {},
     "output_type": "execute_result"
    }
   ],
   "source": [
    "gain_tables_selfcal_temp"
   ]
  },
  {
   "cell_type": "code",
   "execution_count": 7,
   "id": "c51e884d",
   "metadata": {},
   "outputs": [],
   "source": [
    "steps = ['2']"
   ]
  },
  {
   "cell_type": "code",
   "execution_count": 8,
   "id": "71a2d13c",
   "metadata": {},
   "outputs": [
    {
     "name": "stderr",
     "output_type": "stream",
     "text": [
      "2023-07-17 15:49:56\tSEVERE\tMeasTable::dUTC(Double) (file casacore/measures/Measures/MeasTable.cc, line 4292)\tLeap second table TAI_UTC seems out-of-date.\n",
      "2023-07-17 15:49:56\tSEVERE\tMeasTable::dUTC(Double) (file casacore/measures/Measures/MeasTable.cc, line 4292)+\tUntil the table is updated (see the CASA documentation or your system admin),\n",
      "2023-07-17 15:49:56\tSEVERE\tMeasTable::dUTC(Double) (file casacore/measures/Measures/MeasTable.cc, line 4292)+\ttimes and coordinates derived from UTC could be wrong by 1s or more.\n",
      "\n",
      "0%....10....20....30....40....50....60....70....80....90....100%\n",
      "\n",
      "0%....10....20....30....40....50....60....70....80....90....100%\n",
      "Qt: Session management error: Authentication Rejected, reason : None of the authentication protocols specified are supported and host-based authentication failed\n",
      "unreasonably large dimensions...\n",
      "\n",
      "0%....10....20....30....40....50....60....70....80....90....100%\n",
      "\n",
      "0%....10....20....30....40....50....60....70....80....90....100%\n",
      "\n",
      "0%....10....20....30....40....50....60....70....80....90....100%\n",
      "\n",
      "0%....10....20....30....40....50....60....70....80....90....100%\n",
      "\n",
      "0%....10....20....30....40....50....60....70....80....90....100%\n",
      "\n",
      "0%....10....20....30....40....50....60....70....80....90....100%\n",
      "\n",
      "0%....10....20....30....40....50....60....70....80....90....100%\n",
      "\n",
      "0%....10....20....30....40....50....60....70....80....90....100%\n",
      "\n",
      "0%....10....20....30....40....50....60....70....80....90....100%\n",
      "\n",
      "0%....10....20....30....40....50....60....70....80....90....100%\n",
      "Qt: Session management error: Authentication Rejected, reason : None of the authentication protocols specified are supported and host-based authentication failed\n",
      "E0717 17:37:01.922640613   30824 call.cc:896]                Invalid entry in accept encoding metadata: ' deflate'. Ignoring.\n",
      "E0717 17:37:01.922655303   30824 call.cc:896]                Invalid entry in accept encoding metadata: ' gzip'. Ignoring.\n"
     ]
    },
    {
     "name": "stdout",
     "output_type": "stream",
     "text": [
      "NOTICE: Exporting to images in screen resolution is currently not working.  Switching to high resolution (which is slower, but works).\n",
      "NOTICE: Exporting to images in screen resolution is currently not working.  Switching to high resolution (which is slower, but works).\n",
      "NOTICE: Exporting to images in screen resolution is currently not working.  Switching to high resolution (which is slower, but works).\n",
      "NOTICE: Exporting to images in screen resolution is currently not working.  Switching to high resolution (which is slower, but works).\n",
      "NOTICE: Exporting to images in screen resolution is currently not working.  Switching to high resolution (which is slower, but works).\n",
      "NOTICE: Exporting to images in screen resolution is currently not working.  Switching to high resolution (which is slower, but works).\n",
      "NOTICE: Exporting to images in screen resolution is currently not working.  Switching to high resolution (which is slower, but works).\n",
      "NOTICE: Exporting to images in screen resolution is currently not working.  Switching to high resolution (which is slower, but works).\n",
      "NOTICE: Exporting to images in screen resolution is currently not working.  Switching to high resolution (which is slower, but works).\n",
      "NOTICE: Exporting to images in screen resolution is currently not working.  Switching to high resolution (which is slower, but works).\n",
      "(0) waiting for viewer process...\n",
      "(1) waiting for viewer process...\n",
      "(2) waiting for viewer process...\n",
      "(3) waiting for viewer process...\n"
     ]
    },
    {
     "name": "stderr",
     "output_type": "stream",
     "text": [
      "Qt: Session management error: Authentication Rejected, reason : None of the authentication protocols specified are supported and host-based authentication failed\n"
     ]
    },
    {
     "name": "stdout",
     "output_type": "stream",
     "text": [
      "(4) waiting for viewer process...\n",
      "\t...{'id': 'casaviewer:c190', 'priority': 0, 'types': array(['shutdown', 'image-view', 'interactive-clean'], dtype='<U18'), 'uri': '0.0.0.0:46779'}\n"
     ]
    },
    {
     "name": "stderr",
     "output_type": "stream",
     "text": [
      "E0717 17:42:01.189866773    4383 call.cc:896]                Invalid entry in accept encoding metadata: ' deflate'. Ignoring.\n",
      "E0717 17:42:01.189903483    4383 call.cc:896]                Invalid entry in accept encoding metadata: ' gzip'. Ignoring.\n",
      "unreasonably large dimensions...\n"
     ]
    },
    {
     "name": "stdout",
     "output_type": "stream",
     "text": [
      " Image (update) Statistics:\n",
      " Flux=0.01014 Jy/Beam\n",
      " Flux peak (image)=0.00230 Jy Flux peak (residual)=0.00006 Jy\n",
      " flux_im/sigma_im=393.93740 flux_im/sigma_re=981.92453\n",
      " rms_im=0.00003 rms_re=0.00001\n",
      " flux_peak_im/rms_im=89.39336 flux_peak_re/rms_re=5.45919\n",
      " sumsq_im/sumsq_re=6.21306\n"
     ]
    }
   ],
   "source": [
    "if '2' in steps:\n",
    "    ############################################################################\n",
    "    #### 2. Second interaction. Increase more the robust parameter, or use  ####\n",
    "    ####    uvtapering. Consider even more extended emission (if there is). ####\n",
    "    ############################################################################\n",
    "    os.environ['SAVE_ALL_AUTOMASKS']=\"false\"\n",
    "    robust = 2.0\n",
    "    threshold = '3.0e-6Jy'\n",
    "    niter = 1000\n",
    "    update_model_image(g_name,field,n_interaction=2,interactive=interactive,robust = robust,\n",
    "       uvtaper=[],niter=niter,usemask=usemask,PLOT=True)"
   ]
  },
  {
   "cell_type": "code",
   "execution_count": 9,
   "id": "de978272",
   "metadata": {},
   "outputs": [],
   "source": [
    "gain_tables_selfcal_temp = ['selfcal/1_selfcal_phase_interactive_CGCG448-020.AL746_combined.calibrated.avg8s__solint_180s_minsnr_1.5.tb']"
   ]
  },
  {
   "cell_type": "code",
   "execution_count": 14,
   "id": "83e9695d",
   "metadata": {},
   "outputs": [
    {
     "name": "stdout",
     "output_type": "stream",
     "text": [
      " => Using existing caltable with same parameters asked.\n",
      " => Not computing again...\n"
     ]
    },
    {
     "name": "stderr",
     "output_type": "stream",
     "text": [
      "No artists with labels found to put in legend.  Note that artists whose label start with an underscore are ignored when legend() is called with no argument.\n"
     ]
    },
    {
     "name": "stdout",
     "output_type": "stream",
     "text": [
      "NOTICE: Exporting to images in screen resolution is currently not working.  Switching to high resolution (which is slower, but works).\n"
     ]
    },
    {
     "name": "stderr",
     "output_type": "stream",
     "text": [
      "2023-07-17 16:45:16\tWARN\tflagmanager::::casa\tVersion name 'before_selfcal_mode_p' already exist. Will rename it to before_selfcal_mode_p.old.1689612316\n"
     ]
    },
    {
     "name": "stdout",
     "output_type": "stream",
     "text": [
      "P(<=1.3) = 20.5109126984127  ()\n",
      "     => Creating new flagbackup file before mode  p  selfcal ...\n",
      "     => Reporting data flagged before selfcal apply interaction 2 ...\n",
      "field CGCG448-020:  56.1 percent flagged\n",
      "The following MS spws have no corresponding cal spws in 1_selfcal_phase_interactive_CGCG448-020.AL746_combined.calibrated.avg8s__solint_180s_minsnr_1.5.tb: 0 \n",
      "The following MS spws have no corresponding cal spws in 2_selfcal_phase_incremental_interactive_CGCG448-020.AL746_combined.calibrated.avg8s__solint_60s_minsnr_1.3.tb: 0 \n",
      "     => Reporting data flagged after selfcal apply interaction 2 ...\n",
      "field CGCG448-020:  56.4 percent flagged\n",
      "NOTICE: Exporting to images in screen resolution is currently not working.  Switching to high resolution (which is slower, but works).\n",
      "NOTICE: Exporting to images in screen resolution is currently not working.  Switching to high resolution (which is slower, but works).\n",
      "NOTICE: Exporting to images in screen resolution is currently not working.  Switching to high resolution (which is slower, but works).\n",
      "NOTICE: Exporting to images in screen resolution is currently not working.  Switching to high resolution (which is slower, but works).\n",
      "NOTICE: Exporting to images in screen resolution is currently not working.  Switching to high resolution (which is slower, but works).\n",
      "NOTICE: Exporting to images in screen resolution is currently not working.  Switching to high resolution (which is slower, but works).\n",
      "NOTICE: Exporting to images in screen resolution is currently not working.  Switching to high resolution (which is slower, but works).\n"
     ]
    }
   ],
   "source": [
    "if '2' in steps:\n",
    "    ############################################################################\n",
    "    #### 2. Second interaction. Increase more the robust parameter, or use  ####\n",
    "    ####    uvtapering. Consider even more extended emission (if there is). ####\n",
    "    ############################################################################\n",
    "    robust = 2.0\n",
    "    threshold = '3.0e-6Jy'\n",
    "    niter = 1000\n",
    "    \n",
    "    gain_tables_selfcal=self_gain_cal(g_name,field,n_interaction=2,\n",
    "        minsnr = 1.3,solint = '60s',flagbackup=True,\n",
    "        gain_tables=gain_tables_selfcal_temp,calmode='p',gaintype='T',\n",
    "        action='apply',PLOT=True)"
   ]
  },
  {
   "cell_type": "code",
   "execution_count": 15,
   "id": "c1853ac3",
   "metadata": {},
   "outputs": [],
   "source": [
    "steps = ['3']"
   ]
  },
  {
   "cell_type": "code",
   "execution_count": 16,
   "id": "9a1239de",
   "metadata": {},
   "outputs": [
    {
     "name": "stderr",
     "output_type": "stream",
     "text": [
      "\n",
      "0%....10....20....30....40....50....60....70....80....90....100%\n",
      "\n",
      "0%....10....20....30....40....50....60....70....80....90....100%\n",
      "unreasonably large dimensions...\n",
      "\n",
      "0%....10....20....30....40....50....60....70....80....90....100%\n",
      "\n",
      "0%....10....20....30....40....50....60....70....80....90....100%\n",
      "\n",
      "0%....10....20....30....40....50....60....70....80....90....100%\n",
      "\n",
      "0%....10....20....30....40....50....60....70....80....90....100%\n",
      "\n",
      "0%....10....20....30....40....50....60....70....80....90....100%\n",
      "\n",
      "0%....10....20....30....40....50....60....70....80....90....100%\n",
      "\n",
      "0%....10....20....30....40....50....60....70....80....90....100%\n",
      "\n",
      "0%....10....20....30....40....50....60....70....80....90....100%\n",
      "\n",
      "0%....10....20....30....40....50....60....70....80....90....100%\n",
      "\n",
      "0%....10....20....30....40....50....60....70....80....90....100%\n",
      "\n",
      "0%....10....20....30....40....50....60....70....80....90....100%\n",
      "\n",
      "0%....10....20....30....40....50....60....70....80....90....100%\n"
     ]
    },
    {
     "name": "stdout",
     "output_type": "stream",
     "text": [
      "NOTICE: Exporting to images in screen resolution is currently not working.  Switching to high resolution (which is slower, but works).\n",
      "NOTICE: Exporting to images in screen resolution is currently not working.  Switching to high resolution (which is slower, but works).\n",
      "NOTICE: Exporting to images in screen resolution is currently not working.  Switching to high resolution (which is slower, but works).\n",
      "NOTICE: Exporting to images in screen resolution is currently not working.  Switching to high resolution (which is slower, but works).\n",
      "NOTICE: Exporting to images in screen resolution is currently not working.  Switching to high resolution (which is slower, but works).\n",
      "NOTICE: Exporting to images in screen resolution is currently not working.  Switching to high resolution (which is slower, but works).\n",
      "NOTICE: Exporting to images in screen resolution is currently not working.  Switching to high resolution (which is slower, but works).\n",
      "NOTICE: Exporting to images in screen resolution is currently not working.  Switching to high resolution (which is slower, but works).\n",
      "NOTICE: Exporting to images in screen resolution is currently not working.  Switching to high resolution (which is slower, but works).\n",
      "NOTICE: Exporting to images in screen resolution is currently not working.  Switching to high resolution (which is slower, but works).\n"
     ]
    },
    {
     "name": "stderr",
     "output_type": "stream",
     "text": [
      "unreasonably large dimensions...\n"
     ]
    },
    {
     "name": "stdout",
     "output_type": "stream",
     "text": [
      " Image (update) Statistics:\n",
      " Flux=0.00690 Jy/Beam\n",
      " Flux peak (image)=0.00212 Jy Flux peak (residual)=0.00005 Jy\n",
      " flux_im/sigma_im=268.89993 flux_im/sigma_re=692.83253\n",
      " rms_im=0.00003 rms_re=0.00001\n",
      " flux_peak_im/rms_im=82.64537 flux_peak_re/rms_re=5.03501\n",
      " sumsq_im/sumsq_re=6.63859\n"
     ]
    }
   ],
   "source": [
    "if '3' in steps:\n",
    "    # ############################################################################\n",
    "    # #### 3. Third interaction.If you see that further improvements can be   ####\n",
    "    # ####    obtained, do one more interaction, now amp selfcal.             ####\n",
    "    # ####    Be sure that the previous phase gains are ok, because you       ####\n",
    "    # ####    need them for the amp gain. If they are not, consider           ####\n",
    "    # ####    to iterate as many times you see fit in phases again.           ####\n",
    "    # ############################################################################\n",
    "    robust = 0.5\n",
    "    threshold = '2e-6Jy'\n",
    "    niter = 1000\n",
    "    update_model_image(g_name,field,n_interaction=3,interactive=interactive,robust = robust,\n",
    "      uvtaper=[],niter=niter,usemask=usemask,PLOT=True)"
   ]
  },
  {
   "cell_type": "code",
   "execution_count": 21,
   "id": "31eba478",
   "metadata": {},
   "outputs": [
    {
     "name": "stdout",
     "output_type": "stream",
     "text": [
      " => Using existing caltable with same parameters asked.\n",
      " => Not computing again...\n",
      "NOTICE: Exporting to images in screen resolution is currently not working.  Switching to high resolution (which is slower, but works).\n"
     ]
    },
    {
     "name": "stderr",
     "output_type": "stream",
     "text": [
      "No artists with labels found to put in legend.  Note that artists whose label start with an underscore are ignored when legend() is called with no argument.\n"
     ]
    },
    {
     "name": "stdout",
     "output_type": "stream",
     "text": [
      "NOTICE: Exporting to images in screen resolution is currently not working.  Switching to high resolution (which is slower, but works).\n",
      "P(<=1.5) = 16.77827380952381  ()\n",
      "     => Creating new flagbackup file before mode  ap  selfcal ...\n",
      "     => Reporting data flagged before selfcal apply interaction 3 ...\n",
      "field CGCG448-020:  56.4 percent flagged\n",
      "The following MS spws have no corresponding cal spws in 1_selfcal_phase_interactive_CGCG448-020.AL746_combined.calibrated.avg8s__solint_180s_minsnr_1.5.tb: 0 \n",
      "The following MS spws have no corresponding cal spws in 2_selfcal_phase_incremental_interactive_CGCG448-020.AL746_combined.calibrated.avg8s__solint_60s_minsnr_1.3.tb: 0 \n",
      "The following MS spws have no corresponding cal spws in 3_selfcal_ampphase_incremental_interactive_CGCG448-020.AL746_combined.calibrated.avg8s__solint_360s_minsnr_1.5.tb: 0 \n",
      "     => Reporting data flagged after selfcal apply interaction 3 ...\n",
      "field CGCG448-020:  60.7 percent flagged\n",
      "NOTICE: Exporting to images in screen resolution is currently not working.  Switching to high resolution (which is slower, but works).\n",
      "NOTICE: Exporting to images in screen resolution is currently not working.  Switching to high resolution (which is slower, but works).\n",
      "NOTICE: Exporting to images in screen resolution is currently not working.  Switching to high resolution (which is slower, but works).\n",
      "NOTICE: Exporting to images in screen resolution is currently not working.  Switching to high resolution (which is slower, but works).\n",
      "NOTICE: Exporting to images in screen resolution is currently not working.  Switching to high resolution (which is slower, but works).\n",
      "NOTICE: Exporting to images in screen resolution is currently not working.  Switching to high resolution (which is slower, but works).\n",
      "NOTICE: Exporting to images in screen resolution is currently not working.  Switching to high resolution (which is slower, but works).\n"
     ]
    }
   ],
   "source": [
    "if '3' in steps:\n",
    "    # ############################################################################\n",
    "    # #### 3. Third interaction.If you see that further improvements can be   ####\n",
    "    # ####    obtained, do one more interaction, now amp selfcal.             ####\n",
    "    # ####    Be sure that the previous phase gains are ok, because you       ####\n",
    "    # ####    need them for the amp gain. If they are not good, consider      ####\n",
    "    # ####    to iterate as many times you see fit in phases again,           ####\n",
    "    # ####    until you get good/suitable phase cal tables.                   ####\n",
    "    # ############################################################################\n",
    "    robust = 0.5\n",
    "    threshold = '2e-6Jy'\n",
    "    niter = 1000\n",
    "#     gain_tables_selfcal = ['selfcal/2_selfcal_phase_interactive_UGC5101_combined_w_0.05_RR_LL_newshift__solint_120s_minsnr_2.91.tb']\n",
    "    # # inspect the previous solutions (percentage of flagged data), and\n",
    "    # # try to decrease the solution interval (e.g. 30s, in this case).\n",
    "    # # again, if previous solutions are good, consider a incremental run,\n",
    "    # # e.g. gain_tables=gain_tables_selfcal in the call bellow.\n",
    "    gain_tables_selfcal=self_gain_cal(g_name,field,n_interaction=3,\n",
    "       minsnr = 1.5,solint = '360s',flagbackup=True,solnorm=True,\n",
    "       gain_tables=gain_tables_selfcal,calmode='ap',gaintype='G',combine='scan',\n",
    "       action='apply',PLOT=True)\n",
    "    #\n",
    "    # os.environ['SAVE_ALL_AUTOMASKS']=\"true\"\n",
    "    # perform imaging to check.\n",
    "    #image_selfcal(g_name,field,n_interaction='3',interactive=True,usemask='user',niter=5000)\n",
    "#     image_selfcal(g_name,field,n_interaction='3',interactive=False,usemask='auto-multithresh',niter=2000)"
   ]
  },
  {
   "cell_type": "code",
   "execution_count": 22,
   "id": "567ff420",
   "metadata": {},
   "outputs": [
    {
     "data": {
      "text/plain": [
       "['selfcal/1_selfcal_phase_interactive_CGCG448-020.AL746_combined.calibrated.avg8s__solint_180s_minsnr_1.5.tb',\n",
       " 'selfcal/2_selfcal_phase_incremental_interactive_CGCG448-020.AL746_combined.calibrated.avg8s__solint_60s_minsnr_1.3.tb',\n",
       " 'selfcal/3_selfcal_ampphase_incremental_interactive_CGCG448-020.AL746_combined.calibrated.avg8s__solint_360s_minsnr_1.5.tb']"
      ]
     },
     "execution_count": 22,
     "metadata": {},
     "output_type": "execute_result"
    }
   ],
   "source": [
    "gain_tables_selfcal"
   ]
  },
  {
   "cell_type": "code",
   "execution_count": null,
   "id": "e57572dd",
   "metadata": {},
   "outputs": [],
   "source": []
  }
 ],
 "metadata": {
  "kernelspec": {
   "display_name": "Python 3 (ipykernel)",
   "language": "python",
   "name": "python3"
  },
  "language_info": {
   "codemirror_mode": {
    "name": "ipython",
    "version": 3
   },
   "file_extension": ".py",
   "mimetype": "text/x-python",
   "name": "python",
   "nbconvert_exporter": "python",
   "pygments_lexer": "ipython3",
   "version": "3.8.16"
  }
 },
 "nbformat": 4,
 "nbformat_minor": 5
}
